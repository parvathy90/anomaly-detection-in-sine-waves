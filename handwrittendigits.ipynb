{
  "nbformat": 4,
  "nbformat_minor": 0,
  "metadata": {
    "colab": {
      "name": "handwrittendigits.ipynb",
      "version": "0.3.2",
      "provenance": [],
      "collapsed_sections": []
    },
    "kernelspec": {
      "name": "python3",
      "display_name": "Python 3"
    },
    "accelerator": "TPU"
  },
  "cells": [
    {
      "metadata": {
        "id": "GTW5Hd8Au7SA",
        "colab_type": "code",
        "outputId": "39a98fcf-61cd-41d6-dc14-318e2c826e85",
        "colab": {
          "base_uri": "https://localhost:8080/",
          "height": 34
        }
      },
      "cell_type": "code",
      "source": [
        "# Python 3 libraries \n",
        "\n",
        "import tensorflow as tf\n",
        "import matplotlib.pyplot as plt\n",
        "import keras\n",
        "import numpy as np # linear algebra\n",
        "import pandas as pd # data processing, CSV file I/O (e.g. pd.read_csv)\n",
        "from keras.preprocessing.image import ImageDataGenerator\n",
        "from keras.datasets import mnist"
      ],
      "execution_count": 0,
      "outputs": [
        {
          "output_type": "stream",
          "text": [
            "Using TensorFlow backend.\n"
          ],
          "name": "stderr"
        }
      ]
    },
    {
      "metadata": {
        "id": "_Y9PU_GABf0L",
        "colab_type": "code",
        "outputId": "9daa4213-7a73-4b04-fa0f-b7cae9cba458",
        "colab": {
          "base_uri": "https://localhost:8080/",
          "height": 122
        }
      },
      "cell_type": "code",
      "source": [
        "from google.colab import drive\n",
        "drive.mount('/content/gdrive')"
      ],
      "execution_count": 0,
      "outputs": [
        {
          "output_type": "stream",
          "text": [
            "Go to this URL in a browser: https://accounts.google.com/o/oauth2/auth?client_id=947318989803-6bn6qk8qdgf4n4g3pfee6491hc0brc4i.apps.googleusercontent.com&redirect_uri=urn%3Aietf%3Awg%3Aoauth%3A2.0%3Aoob&scope=email%20https%3A%2F%2Fwww.googleapis.com%2Fauth%2Fdocs.test%20https%3A%2F%2Fwww.googleapis.com%2Fauth%2Fdrive%20https%3A%2F%2Fwww.googleapis.com%2Fauth%2Fdrive.photos.readonly%20https%3A%2F%2Fwww.googleapis.com%2Fauth%2Fpeopleapi.readonly&response_type=code\n",
            "\n",
            "Enter your authorization code:\n",
            "··········\n",
            "Mounted at /content/gdrive\n"
          ],
          "name": "stdout"
        }
      ]
    },
    {
      "metadata": {
        "id": "2VZOyG6WvDwA",
        "colab_type": "code",
        "outputId": "6cc08e1b-d1d0-4ab2-f0b6-200c9ec84859",
        "colab": {
          "base_uri": "https://localhost:8080/",
          "height": 406
        }
      },
      "cell_type": "code",
      "source": [
        "# Load Train and test dataset and normalize them\n",
        "df_train = pd.read_csv(\"/content/gdrive/My Drive/train1.csv\")\n",
        "x_train = np.array(df_train.iloc[:,1:])\n",
        "x_train = np.array([np.reshape(i, (28, 28, 1)) for i in x_train])\n",
        "y_train = np.array(df_train.iloc[:,0])\n",
        "\n",
        "x_train = x_train/255.0\n",
        "y_train = keras.utils.to_categorical(y_train)\n",
        "\n",
        "df_test = pd.read_csv(\"/content/gdrive/My Drive/test1.csv\")\n",
        "x_test = np.array(df_test)\n",
        "x_test = np.array([np.reshape(i, (28, 28, 1)) for i in x_test])\n",
        "x_test = x_test/255.0\n",
        "\n",
        "print(x_train.shape, y_train.shape)\n",
        "from sklearn.model_selection import train_test_split\n",
        "X_train, X_test, Y_train, Y_test = train_test_split(x_train, y_train, test_size=0.2, stratify=y_train)\n",
        "print(X_train.shape, Y_train.shape, X_test.shape, Y_test.shape)\n",
        "# Plot a sample image with label\n",
        "img_num = 8008\n",
        "plt.imshow(x_train[img_num][:,:,0], cmap='gray')\n",
        "plt.title(np.argmax(y_train[img_num]), fontsize=25)\n",
        "plt.show()\n"
      ],
      "execution_count": 0,
      "outputs": [
        {
          "output_type": "stream",
          "text": [
            "(42000, 28, 28, 1) (42000, 10)\n",
            "(33600, 28, 28, 1) (33600, 10) (8400, 28, 28, 1) (8400, 10)\n"
          ],
          "name": "stdout"
        },
        {
          "output_type": "display_data",
          "data": {
            "image/png": "[encoded data removed]",
            "text/plain": [
              "<Figure size 576x396 with 1 Axes>"
            ]
          },
          "metadata": {
            "tags": []
          }
        }
      ]
    },
    {
      "metadata": {
        "id": "3UGxmUTjvYGZ",
        "colab_type": "code",
        "outputId": "769e145e-e2d5-419d-fc64-3c82220e4d7b",
        "colab": {
          "base_uri": "https://localhost:8080/",
          "height": 1380
        }
      },
      "cell_type": "code",
      "source": [
        "model = keras.models.Sequential()\n",
        "\n",
        "model.add(keras.layers.Conv2D(filters=32, kernel_size=(3,3), kernel_initializer='random_uniform', padding='same', activation='relu', input_shape=(X_train.shape[1:])))\n",
        "model.add(keras.layers.Conv2D(filters=32, kernel_size=(3,3), kernel_initializer='random_uniform', padding='same', activation='relu'))\n",
        "model.add(keras.layers.MaxPool2D(pool_size=(2,2)))\n",
        "\n",
        "model.add(keras.layers.Conv2D(filters=64, kernel_size=(5,5), kernel_initializer='random_uniform', padding='same', activation='relu'))\n",
        "model.add(keras.layers.Conv2D(filters=64, kernel_size=(5,5), kernel_initializer='random_uniform', padding='same', activation='relu'))\n",
        "model.add(keras.layers.MaxPool2D(pool_size=(2,2)))\n",
        "\n",
        "model.add(keras.layers.Conv2D(filters=128, kernel_size=(7,7), kernel_initializer='random_uniform', padding='same', activation='relu'))\n",
        "model.add(keras.layers.Conv2D(filters=128, kernel_size=(7,7), kernel_initializer='random_uniform', padding='same', activation='relu'))\n",
        "model.add(keras.layers.MaxPool2D(pool_size=(3,3)))\n",
        "\n",
        "model.add(keras.layers.Conv2D(filters=256, kernel_size=(7,7), padding='same'))\n",
        "model.add(keras.layers.BatchNormalization())\n",
        "model.add(keras.layers.Activation('relu'))\n",
        "\n",
        "model.add(keras.layers.Flatten())\n",
        "model.add(keras.layers.Dense(units=256, activation='relu'))\n",
        "model.add(keras.layers.Dropout(0.5))\n",
        "model.add(keras.layers.Dense(units=100, activation='relu'))\n",
        "model.add(keras.layers.Dropout(0.5))\n",
        "model.add(keras.layers.Dense(units=y_train.shape[1], activation='softmax'))\n",
        "\n",
        "model.summary()\n",
        "# Configure and train the model\n",
        "model.compile(loss='categorical_crossentropy',optimizer='Adam', metrics=['accuracy'])\n",
        "history = model.fit(X_train, Y_train,  batch_size=500, epochs=13, validation_data=(X_test,Y_test))"
      ],
      "execution_count": 0,
      "outputs": [
        {
          "output_type": "stream",
          "text": [
            "WARNING:tensorflow:From /usr/local/lib/python3.6/dist-packages/tensorflow/python/framework/op_def_library.py:263: colocate_with (from tensorflow.python.framework.ops) is deprecated and will be removed in a future version.\n",
            "Instructions for updating:\n",
            "Colocations handled automatically by placer.\n",
            "WARNING:tensorflow:From /usr/local/lib/python3.6/dist-packages/keras/backend/tensorflow_backend.py:3445: calling dropout (from tensorflow.python.ops.nn_ops) with keep_prob is deprecated and will be removed in a future version.\n",
            "Instructions for updating:\n",
            "Please use `rate` instead of `keep_prob`. Rate should be set to `rate = 1 - keep_prob`.\n",
            "_________________________________________________________________\n",
            "Layer (type)                 Output Shape              Param #   \n",
            "=================================================================\n",
            "conv2d_1 (Conv2D)            (None, 28, 28, 32)        320       \n",
            "_________________________________________________________________\n",
            "conv2d_2 (Conv2D)            (None, 28, 28, 32)        9248      \n",
            "_________________________________________________________________\n",
            "max_pooling2d_1 (MaxPooling2 (None, 14, 14, 32)        0         \n",
            "_________________________________________________________________\n",
            "conv2d_3 (Conv2D)            (None, 14, 14, 64)        51264     \n",
            "_________________________________________________________________\n",
            "conv2d_4 (Conv2D)            (None, 14, 14, 64)        102464    \n",
            "_________________________________________________________________\n",
            "max_pooling2d_2 (MaxPooling2 (None, 7, 7, 64)          0         \n",
            "_________________________________________________________________\n",
            "conv2d_5 (Conv2D)            (None, 7, 7, 128)         401536    \n",
            "_________________________________________________________________\n",
            "conv2d_6 (Conv2D)            (None, 7, 7, 128)         802944    \n",
            "_________________________________________________________________\n",
            "max_pooling2d_3 (MaxPooling2 (None, 2, 2, 128)         0         \n",
            "_________________________________________________________________\n",
            "conv2d_7 (Conv2D)            (None, 2, 2, 256)         1605888   \n",
            "_________________________________________________________________\n",
            "batch_normalization_1 (Batch (None, 2, 2, 256)         1024      \n",
            "_________________________________________________________________\n",
            "activation_1 (Activation)    (None, 2, 2, 256)         0         \n",
            "_________________________________________________________________\n",
            "flatten_1 (Flatten)          (None, 1024)              0         \n",
            "_________________________________________________________________\n",
            "dense_1 (Dense)              (None, 256)               262400    \n",
            "_________________________________________________________________\n",
            "dropout_1 (Dropout)          (None, 256)               0         \n",
            "_________________________________________________________________\n",
            "dense_2 (Dense)              (None, 100)               25700     \n",
            "_________________________________________________________________\n",
            "dropout_2 (Dropout)          (None, 100)               0         \n",
            "_________________________________________________________________\n",
            "dense_3 (Dense)              (None, 10)                1010      \n",
            "=================================================================\n",
            "Total params: 3,263,798\n",
            "Trainable params: 3,263,286\n",
            "Non-trainable params: 512\n",
            "_________________________________________________________________\n",
            "WARNING:tensorflow:From /usr/local/lib/python3.6/dist-packages/tensorflow/python/ops/math_ops.py:3066: to_int32 (from tensorflow.python.ops.math_ops) is deprecated and will be removed in a future version.\n",
            "Instructions for updating:\n",
            "Use tf.cast instead.\n",
            "Train on 33600 samples, validate on 8400 samples\n",
            "Epoch 1/13\n",
            "33600/33600 [==============================] - 728s 22ms/step - loss: 2.1486 - acc: 0.2014 - val_loss: 2.9009 - val_acc: 0.1036\n",
            "Epoch 2/13\n",
            "33600/33600 [==============================] - 724s 22ms/step - loss: 1.7368 - acc: 0.3061 - val_loss: 1.7229 - val_acc: 0.3312\n",
            "Epoch 3/13\n",
            "33600/33600 [==============================] - 724s 22ms/step - loss: 1.2415 - acc: 0.5189 - val_loss: 6.8916 - val_acc: 0.1507\n",
            "Epoch 4/13\n",
            "33600/33600 [==============================] - 717s 21ms/step - loss: 0.6754 - acc: 0.7817 - val_loss: 1.3557 - val_acc: 0.6458\n",
            "Epoch 5/13\n",
            "33600/33600 [==============================] - 724s 22ms/step - loss: 0.4059 - acc: 0.8858 - val_loss: 4.1448 - val_acc: 0.3151\n",
            "Epoch 6/13\n",
            "33600/33600 [==============================] - 717s 21ms/step - loss: 0.2748 - acc: 0.9257 - val_loss: 1.3630 - val_acc: 0.6743\n",
            "Epoch 7/13\n",
            "33600/33600 [==============================] - 708s 21ms/step - loss: 0.2118 - acc: 0.9451 - val_loss: 1.7248 - val_acc: 0.6452\n",
            "Epoch 8/13\n",
            "33600/33600 [==============================] - 711s 21ms/step - loss: 0.1618 - acc: 0.9595 - val_loss: 0.4002 - val_acc: 0.8875\n",
            "Epoch 9/13\n",
            "33600/33600 [==============================] - 713s 21ms/step - loss: 0.1466 - acc: 0.9632 - val_loss: 0.2502 - val_acc: 0.9268\n",
            "Epoch 10/13\n",
            "33600/33600 [==============================] - 704s 21ms/step - loss: 0.1242 - acc: 0.9683 - val_loss: 0.1359 - val_acc: 0.9632\n",
            "Epoch 11/13\n",
            "33600/33600 [==============================] - 708s 21ms/step - loss: 0.1076 - acc: 0.9726 - val_loss: 0.0966 - val_acc: 0.9769\n",
            "Epoch 12/13\n",
            "33600/33600 [==============================] - 720s 21ms/step - loss: 0.0983 - acc: 0.9764 - val_loss: 0.1262 - val_acc: 0.9663\n",
            "Epoch 13/13\n",
            "33600/33600 [==============================] - 718s 21ms/step - loss: 0.0906 - acc: 0.9783 - val_loss: 0.4041 - val_acc: 0.9160\n"
          ],
          "name": "stdout"
        }
      ]
    },
    {
      "metadata": {
        "id": "9tdW7GwCvdpt",
        "colab_type": "code",
        "colab": {
          "base_uri": "https://localhost:8080/",
          "height": 428
        },
        "outputId": "53a92ea9-dafe-40c7-8113-e46e23a94ede"
      },
      "cell_type": "code",
      "source": [
        "# Plot the model Accuracy graph\n",
        "plt.figure(figsize=[8,6])\n",
        "plt.plot(history.history['acc'],'r',linewidth=3.0)\n",
        "plt.plot(history.history['val_acc'],'b',linewidth=3.0)\n",
        "plt.legend(['Training  Accuracy', 'Test Accuracy'],fontsize=18)\n",
        "plt.xlabel('Epochs ',fontsize=16)\n",
        "plt.ylabel('Accuracy',fontsize=16)\n",
        "plt.title('Accuracy Curves',fontsize=16)\n"
      ],
      "execution_count": 6,
      "outputs": [
        {
          "output_type": "execute_result",
          "data": {
            "text/plain": [
              "Text(0.5, 1.0, 'Accuracy Curves')"
            ]
          },
          "metadata": {
            "tags": []
          },
          "execution_count": 6
        },
        {
          "output_type": "display_data",
          "data": {
            "image/png": "[encoded data removed]",
            "text/plain": [
              "<Figure size 576x432 with 1 Axes>"
            ]
          },
          "metadata": {
            "tags": []
          }
        }
      ]
    },
    {
      "metadata": {
        "id": "t7pxcya9vlJ-",
        "colab_type": "code",
        "colab": {}
      },
      "cell_type": "code",
      "source": [
        "# Predictions for the given test case\n",
        "img_id = []\n",
        "label = []\n",
        "for i in range(len(x_test)):\n",
        "    img_id.append(i+1)\n",
        "    label.append(np.argmax(model.predict(x_test[i:i+1])))\n",
        "    \n",
        "img_id = np.array(img_id)\n",
        "label = np.array(label)\n",
        "# Convert to pandas dataframe and convert to submission file\n",
        "op_df = pd.DataFrame()\n",
        "op_df['ImageId'] = img_id\n",
        "op_df['Label'] = label\n",
        "op_df.to_csv(\"/content/gdrive/My Drive/submission.csv\", index=False)"
      ],
      "execution_count": 0,
      "outputs": []
    }
  ]
}