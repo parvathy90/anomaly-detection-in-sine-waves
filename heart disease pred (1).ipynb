{
 "cells": [
  {
   "cell_type": "code",
   "execution_count": 1,
   "metadata": {},
   "outputs": [],
   "source": [
    "import numpy as np\n",
    "import pandas as pd\n",
    "import matplotlib.pyplot as plt\n",
    "import seaborn as sns #for plotting\n",
    "from sklearn.ensemble import RandomForestClassifier #for the model\n",
    "from sklearn.tree import DecisionTreeClassifier\n",
    "from sklearn.metrics import roc_curve, auc #for model evaluation\n",
    "from sklearn.metrics import classification_report #for model evaluation\n",
    "from sklearn.metrics import confusion_matrix #for model evaluation\n",
    "from sklearn.model_selection import train_test_split #for data splitting\n",
    "import eli5 #for purmutation importance\n",
    "from eli5.sklearn import PermutationImportance\n",
    "np.random.seed(123) #ensure reproducibility\n",
    "pd.options.mode.chained_assignment = None  #hide any pandas warnings\n",
    "\n"
   ]
  },
  {
   "cell_type": "code",
   "execution_count": 2,
   "metadata": {},
   "outputs": [],
   "source": [
    "\n",
    "import warnings\n",
    "from sklearn.metrics import mean_squared_error\n",
    "warnings.simplefilter(action='ignore', category=FutureWarning)\n",
    "warnings.filterwarnings('ignore')\n",
    "from sklearn import metrics\n",
    "from sklearn.model_selection import train_test_split\n",
    "from sklearn.model_selection import KFold\n",
    "from sklearn.model_selection import cross_val_score\n",
    "from sklearn.model_selection import GridSearchCV\n",
    "from sklearn.metrics import accuracy_score\n",
    "from sklearn.linear_model import LogisticRegression\n",
    "from sklearn.neighbors import KNeighborsClassifier\n",
    "from sklearn.discriminant_analysis import LinearDiscriminantAnalysis\n",
    "from sklearn.naive_bayes import GaussianNB\n",
    "from sklearn.svm import SVC\n",
    "from sklearn.ensemble import AdaBoostClassifier\n",
    "from sklearn.ensemble import GradientBoostingClassifier\n",
    "from sklearn.ensemble import ExtraTreesClassifier\n",
    "from sklearn.preprocessing import StandardScaler\n",
    "plt.style.use('seaborn')\n",
    "sns.set(font_scale=2)\n",
    "pd.set_option('display.max_columns', 500)"
   ]
  },
  {
   "cell_type": "code",
   "execution_count": 3,
   "metadata": {},
   "outputs": [
    {
     "name": "stdout",
     "output_type": "stream",
     "text": [
      "Requirement already satisfied: pdpbox in e:\\anaconda_3\\lib\\site-packages (0.2.0)\n",
      "Requirement already satisfied: matplotlib>=2.1.2 in e:\\anaconda_3\\lib\\site-packages (from pdpbox) (3.0.2)\n",
      "Requirement already satisfied: scipy in e:\\anaconda_3\\lib\\site-packages (from pdpbox) (1.1.0)\n",
      "Requirement already satisfied: scikit-learn in e:\\anaconda_3\\lib\\site-packages (from pdpbox) (0.20.1)\n",
      "Requirement already satisfied: joblib in e:\\anaconda_3\\lib\\site-packages (from pdpbox) (0.13.2)\n",
      "Requirement already satisfied: numpy in e:\\anaconda_3\\lib\\site-packages (from pdpbox) (1.15.4)\n",
      "Requirement already satisfied: pandas in e:\\anaconda_3\\lib\\site-packages (from pdpbox) (0.23.4)\n",
      "Requirement already satisfied: psutil in e:\\anaconda_3\\lib\\site-packages (from pdpbox) (5.4.8)\n",
      "Requirement already satisfied: cycler>=0.10 in e:\\anaconda_3\\lib\\site-packages (from matplotlib>=2.1.2->pdpbox) (0.10.0)\n",
      "Requirement already satisfied: kiwisolver>=1.0.1 in e:\\anaconda_3\\lib\\site-packages (from matplotlib>=2.1.2->pdpbox) (1.0.1)\n",
      "Requirement already satisfied: pyparsing!=2.0.4,!=2.1.2,!=2.1.6,>=2.0.1 in e:\\anaconda_3\\lib\\site-packages (from matplotlib>=2.1.2->pdpbox) (2.3.0)\n",
      "Requirement already satisfied: python-dateutil>=2.1 in e:\\anaconda_3\\lib\\site-packages (from matplotlib>=2.1.2->pdpbox) (2.7.5)\n",
      "Requirement already satisfied: pytz>=2011k in e:\\anaconda_3\\lib\\site-packages (from pandas->pdpbox) (2018.7)\n",
      "Requirement already satisfied: six in e:\\anaconda_3\\lib\\site-packages (from cycler>=0.10->matplotlib>=2.1.2->pdpbox) (1.12.0)\n",
      "Requirement already satisfied: setuptools in e:\\anaconda_3\\lib\\site-packages (from kiwisolver>=1.0.1->matplotlib>=2.1.2->pdpbox) (40.6.3)\n"
     ]
    }
   ],
   "source": [
    "!pip install pdpbox"
   ]
  },
  {
   "cell_type": "code",
   "execution_count": 4,
   "metadata": {},
   "outputs": [],
   "source": [
    "dt = pd.read_csv(\"heart.csv\")\n"
   ]
  },
  {
   "cell_type": "code",
   "execution_count": 5,
   "metadata": {},
   "outputs": [],
   "source": [
    "dt.head(10)\n",
    "dt_1=dt"
   ]
  },
  {
   "cell_type": "code",
   "execution_count": 6,
   "metadata": {},
   "outputs": [],
   "source": [
    "dt.columns = ['age', 'sex', 'chest_pain_type', 'resting_blood_pressure', 'cholesterol', 'fasting_blood_sugar', 'rest_ecg', 'max_heart_rate_achieved',\n",
    "       'exercise_induced_angina', 'st_depression', 'st_slope', 'num_major_vessels', 'thalassemia', 'target']"
   ]
  },
  {
   "cell_type": "code",
   "execution_count": 7,
   "metadata": {},
   "outputs": [],
   "source": [
    "dt['sex'][dt['sex'] == 0] = 'female'\n",
    "dt['sex'][dt['sex'] == 1] = 'male'\n",
    "\n",
    "dt['chest_pain_type'][dt['chest_pain_type'] == 1] = 'typical angina'\n",
    "dt['chest_pain_type'][dt['chest_pain_type'] == 2] = 'atypical angina'\n",
    "dt['chest_pain_type'][dt['chest_pain_type'] == 3] = 'non-anginal pain'\n",
    "dt['chest_pain_type'][dt['chest_pain_type'] == 4] = 'asymptomatic'\n",
    "\n",
    "dt['fasting_blood_sugar'][dt['fasting_blood_sugar'] == 0] = 'lower than 120mg/ml'\n",
    "dt['fasting_blood_sugar'][dt['fasting_blood_sugar'] == 1] = 'greater than 120mg/ml'\n",
    "\n",
    "dt['rest_ecg'][dt['rest_ecg'] == 0] = 'normal'\n",
    "dt['rest_ecg'][dt['rest_ecg'] == 1] = 'ST-T wave abnormality'\n",
    "dt['rest_ecg'][dt['rest_ecg'] == 2] = 'left ventricular hypertrophy'\n",
    "\n",
    "dt['exercise_induced_angina'][dt['exercise_induced_angina'] == 0] = 'no'\n",
    "dt['exercise_induced_angina'][dt['exercise_induced_angina'] == 1] = 'yes'\n",
    "\n",
    "dt['st_slope'][dt['st_slope'] == 1] = 'upsloping'\n",
    "dt['st_slope'][dt['st_slope'] == 2] = 'flat'\n",
    "dt['st_slope'][dt['st_slope'] == 3] = 'downsloping'\n",
    "\n",
    "dt['thalassemia'][dt['thalassemia'] == 1] = 'normal'\n",
    "dt['thalassemia'][dt['thalassemia'] == 2] = 'fixed defect'\n",
    "dt['thalassemia'][dt['thalassemia'] == 3] = 'reversable defect'\n"
   ]
  },
  {
   "cell_type": "code",
   "execution_count": 8,
   "metadata": {},
   "outputs": [
    {
     "data": {
      "text/plain": [
       "age                          int64\n",
       "sex                         object\n",
       "chest_pain_type             object\n",
       "resting_blood_pressure       int64\n",
       "cholesterol                  int64\n",
       "fasting_blood_sugar         object\n",
       "rest_ecg                    object\n",
       "max_heart_rate_achieved      int64\n",
       "exercise_induced_angina     object\n",
       "st_depression              float64\n",
       "st_slope                    object\n",
       "num_major_vessels            int64\n",
       "thalassemia                 object\n",
       "target                       int64\n",
       "dtype: object"
      ]
     },
     "execution_count": 8,
     "metadata": {},
     "output_type": "execute_result"
    }
   ],
   "source": [
    "dt.dtypes"
   ]
  },
  {
   "cell_type": "code",
   "execution_count": 9,
   "metadata": {},
   "outputs": [],
   "source": [
    "dt['sex'] = dt['sex'].astype('object')\n",
    "dt['chest_pain_type'] = dt['chest_pain_type'].astype('object')\n",
    "dt['fasting_blood_sugar'] = dt['fasting_blood_sugar'].astype('object')\n",
    "dt['rest_ecg'] = dt['rest_ecg'].astype('object')\n",
    "dt['exercise_induced_angina'] = dt['exercise_induced_angina'].astype('object')\n",
    "dt['st_slope'] = dt['st_slope'].astype('object')\n",
    "dt['thalassemia'] = dt['thalassemia'].astype('object')"
   ]
  },
  {
   "cell_type": "code",
   "execution_count": 10,
   "metadata": {},
   "outputs": [],
   "source": [
    "dt = pd.get_dummies(dt, drop_first=True)"
   ]
  },
  {
   "cell_type": "code",
   "execution_count": 11,
   "metadata": {},
   "outputs": [
    {
     "data": {
      "text/html": [
       "<div>\n",
       "<style scoped>\n",
       "    .dataframe tbody tr th:only-of-type {\n",
       "        vertical-align: middle;\n",
       "    }\n",
       "\n",
       "    .dataframe tbody tr th {\n",
       "        vertical-align: top;\n",
       "    }\n",
       "\n",
       "    .dataframe thead th {\n",
       "        text-align: right;\n",
       "    }\n",
       "</style>\n",
       "<table border=\"1\" class=\"dataframe\">\n",
       "  <thead>\n",
       "    <tr style=\"text-align: right;\">\n",
       "      <th></th>\n",
       "      <th>age</th>\n",
       "      <th>resting_blood_pressure</th>\n",
       "      <th>cholesterol</th>\n",
       "      <th>max_heart_rate_achieved</th>\n",
       "      <th>st_depression</th>\n",
       "      <th>num_major_vessels</th>\n",
       "      <th>target</th>\n",
       "      <th>sex_male</th>\n",
       "      <th>chest_pain_type_atypical angina</th>\n",
       "      <th>chest_pain_type_non-anginal pain</th>\n",
       "      <th>chest_pain_type_typical angina</th>\n",
       "      <th>fasting_blood_sugar_lower than 120mg/ml</th>\n",
       "      <th>rest_ecg_left ventricular hypertrophy</th>\n",
       "      <th>rest_ecg_normal</th>\n",
       "      <th>exercise_induced_angina_yes</th>\n",
       "      <th>st_slope_flat</th>\n",
       "      <th>st_slope_upsloping</th>\n",
       "      <th>thalassemia_fixed defect</th>\n",
       "      <th>thalassemia_normal</th>\n",
       "      <th>thalassemia_reversable defect</th>\n",
       "    </tr>\n",
       "  </thead>\n",
       "  <tbody>\n",
       "    <tr>\n",
       "      <th>0</th>\n",
       "      <td>63</td>\n",
       "      <td>145</td>\n",
       "      <td>233</td>\n",
       "      <td>150</td>\n",
       "      <td>2.3</td>\n",
       "      <td>0</td>\n",
       "      <td>1</td>\n",
       "      <td>1</td>\n",
       "      <td>0</td>\n",
       "      <td>1</td>\n",
       "      <td>0</td>\n",
       "      <td>0</td>\n",
       "      <td>0</td>\n",
       "      <td>1</td>\n",
       "      <td>0</td>\n",
       "      <td>0</td>\n",
       "      <td>0</td>\n",
       "      <td>0</td>\n",
       "      <td>1</td>\n",
       "      <td>0</td>\n",
       "    </tr>\n",
       "    <tr>\n",
       "      <th>1</th>\n",
       "      <td>37</td>\n",
       "      <td>130</td>\n",
       "      <td>250</td>\n",
       "      <td>187</td>\n",
       "      <td>3.5</td>\n",
       "      <td>0</td>\n",
       "      <td>1</td>\n",
       "      <td>1</td>\n",
       "      <td>1</td>\n",
       "      <td>0</td>\n",
       "      <td>0</td>\n",
       "      <td>1</td>\n",
       "      <td>0</td>\n",
       "      <td>0</td>\n",
       "      <td>0</td>\n",
       "      <td>0</td>\n",
       "      <td>0</td>\n",
       "      <td>1</td>\n",
       "      <td>0</td>\n",
       "      <td>0</td>\n",
       "    </tr>\n",
       "    <tr>\n",
       "      <th>2</th>\n",
       "      <td>41</td>\n",
       "      <td>130</td>\n",
       "      <td>204</td>\n",
       "      <td>172</td>\n",
       "      <td>1.4</td>\n",
       "      <td>0</td>\n",
       "      <td>1</td>\n",
       "      <td>0</td>\n",
       "      <td>0</td>\n",
       "      <td>0</td>\n",
       "      <td>1</td>\n",
       "      <td>1</td>\n",
       "      <td>0</td>\n",
       "      <td>1</td>\n",
       "      <td>0</td>\n",
       "      <td>1</td>\n",
       "      <td>0</td>\n",
       "      <td>1</td>\n",
       "      <td>0</td>\n",
       "      <td>0</td>\n",
       "    </tr>\n",
       "    <tr>\n",
       "      <th>3</th>\n",
       "      <td>56</td>\n",
       "      <td>120</td>\n",
       "      <td>236</td>\n",
       "      <td>178</td>\n",
       "      <td>0.8</td>\n",
       "      <td>0</td>\n",
       "      <td>1</td>\n",
       "      <td>1</td>\n",
       "      <td>0</td>\n",
       "      <td>0</td>\n",
       "      <td>1</td>\n",
       "      <td>1</td>\n",
       "      <td>0</td>\n",
       "      <td>0</td>\n",
       "      <td>0</td>\n",
       "      <td>1</td>\n",
       "      <td>0</td>\n",
       "      <td>1</td>\n",
       "      <td>0</td>\n",
       "      <td>0</td>\n",
       "    </tr>\n",
       "    <tr>\n",
       "      <th>4</th>\n",
       "      <td>57</td>\n",
       "      <td>120</td>\n",
       "      <td>354</td>\n",
       "      <td>163</td>\n",
       "      <td>0.6</td>\n",
       "      <td>0</td>\n",
       "      <td>1</td>\n",
       "      <td>0</td>\n",
       "      <td>0</td>\n",
       "      <td>0</td>\n",
       "      <td>0</td>\n",
       "      <td>1</td>\n",
       "      <td>0</td>\n",
       "      <td>0</td>\n",
       "      <td>1</td>\n",
       "      <td>1</td>\n",
       "      <td>0</td>\n",
       "      <td>1</td>\n",
       "      <td>0</td>\n",
       "      <td>0</td>\n",
       "    </tr>\n",
       "  </tbody>\n",
       "</table>\n",
       "</div>"
      ],
      "text/plain": [
       "   age  resting_blood_pressure  cholesterol  max_heart_rate_achieved  \\\n",
       "0   63                     145          233                      150   \n",
       "1   37                     130          250                      187   \n",
       "2   41                     130          204                      172   \n",
       "3   56                     120          236                      178   \n",
       "4   57                     120          354                      163   \n",
       "\n",
       "   st_depression  num_major_vessels  target  sex_male  \\\n",
       "0            2.3                  0       1         1   \n",
       "1            3.5                  0       1         1   \n",
       "2            1.4                  0       1         0   \n",
       "3            0.8                  0       1         1   \n",
       "4            0.6                  0       1         0   \n",
       "\n",
       "   chest_pain_type_atypical angina  chest_pain_type_non-anginal pain  \\\n",
       "0                                0                                 1   \n",
       "1                                1                                 0   \n",
       "2                                0                                 0   \n",
       "3                                0                                 0   \n",
       "4                                0                                 0   \n",
       "\n",
       "   chest_pain_type_typical angina  fasting_blood_sugar_lower than 120mg/ml  \\\n",
       "0                               0                                        0   \n",
       "1                               0                                        1   \n",
       "2                               1                                        1   \n",
       "3                               1                                        1   \n",
       "4                               0                                        1   \n",
       "\n",
       "   rest_ecg_left ventricular hypertrophy  rest_ecg_normal  \\\n",
       "0                                      0                1   \n",
       "1                                      0                0   \n",
       "2                                      0                1   \n",
       "3                                      0                0   \n",
       "4                                      0                0   \n",
       "\n",
       "   exercise_induced_angina_yes  st_slope_flat  st_slope_upsloping  \\\n",
       "0                            0              0                   0   \n",
       "1                            0              0                   0   \n",
       "2                            0              1                   0   \n",
       "3                            0              1                   0   \n",
       "4                            1              1                   0   \n",
       "\n",
       "   thalassemia_fixed defect  thalassemia_normal  thalassemia_reversable defect  \n",
       "0                         0                   1                              0  \n",
       "1                         1                   0                              0  \n",
       "2                         1                   0                              0  \n",
       "3                         1                   0                              0  \n",
       "4                         1                   0                              0  "
      ]
     },
     "execution_count": 11,
     "metadata": {},
     "output_type": "execute_result"
    }
   ],
   "source": [
    "dt.head()"
   ]
  },
  {
   "cell_type": "code",
   "execution_count": 12,
   "metadata": {},
   "outputs": [],
   "source": [
    "X_train, X_test, y_train, y_test = train_test_split(dt.drop('target', 1), dt['target'], test_size = .2, random_state=10) #split the data"
   ]
  },
  {
   "cell_type": "code",
   "execution_count": 13,
   "metadata": {},
   "outputs": [
    {
     "data": {
      "text/plain": [
       "RandomForestClassifier(bootstrap=True, class_weight=None, criterion='gini',\n",
       "            max_depth=5, max_features='auto', max_leaf_nodes=None,\n",
       "            min_impurity_decrease=0.0, min_impurity_split=None,\n",
       "            min_samples_leaf=1, min_samples_split=2,\n",
       "            min_weight_fraction_leaf=0.0, n_estimators=10, n_jobs=None,\n",
       "            oob_score=False, random_state=None, verbose=0,\n",
       "            warm_start=False)"
      ]
     },
     "execution_count": 13,
     "metadata": {},
     "output_type": "execute_result"
    }
   ],
   "source": [
    "model = RandomForestClassifier(max_depth=5)\n",
    "model.fit(X_train, y_train)"
   ]
  },
  {
   "cell_type": "code",
   "execution_count": 14,
   "metadata": {},
   "outputs": [],
   "source": [
    "estimator = model.estimators_[1]\n",
    "feature_names = [i for i in X_train.columns]\n",
    "\n",
    "y_train_str = y_train.astype('str')\n",
    "y_train_str[y_train_str == '0'] = 'no disease'\n",
    "y_train_str[y_train_str == '1'] = 'disease'\n",
    "y_train_str = y_train_str.values"
   ]
  },
  {
   "cell_type": "code",
   "execution_count": 15,
   "metadata": {},
   "outputs": [],
   "source": [
    "y_predict = model.predict(X_test)\n",
    "y_pred_quant = model.predict_proba(X_test)[:, 1]\n",
    "y_pred_bin = model.predict(X_test)\n"
   ]
  },
  {
   "cell_type": "code",
   "execution_count": 16,
   "metadata": {},
   "outputs": [],
   "source": [
    "num_folds = 10\n",
    "seed = 7\n",
    "scoring =  'accuracy'"
   ]
  },
  {
   "cell_type": "code",
   "execution_count": 19,
   "metadata": {},
   "outputs": [
    {
     "name": "stdout",
     "output_type": "stream",
     "text": [
      "[]: 0.789667 (0.063891)\n"
     ]
    }
   ],
   "source": [
    "results=[]\n",
    "names=[]\n",
    "kfold = KFold(n_splits=num_folds, random_state=seed)\n",
    "cv_results = cross_val_score(model, X_train, y_train, cv=kfold, scoring=scoring)\n",
    "results.append(cv_results)\n",
    "names.append(\"RF\")\n",
    "msg = \"%s: %f (%f)\" % (name, cv_results.mean(), cv_results.std())\n",
    "print(msg)"
   ]
  },
  {
   "cell_type": "code",
   "execution_count": 20,
   "metadata": {},
   "outputs": [
    {
     "data": {
      "text/plain": [
       "array([[28,  7],\n",
       "       [ 3, 23]], dtype=int64)"
      ]
     },
     "execution_count": 20,
     "metadata": {},
     "output_type": "execute_result"
    }
   ],
   "source": [
    "confusion_matrix = confusion_matrix(y_test, y_pred_bin)\n",
    "confusion_matrix"
   ]
  },
  {
   "cell_type": "code",
   "execution_count": 21,
   "metadata": {},
   "outputs": [
    {
     "name": "stdout",
     "output_type": "stream",
     "text": [
      "Sensitivity :  0.9032258064516129\n",
      "Specificity :  0.7666666666666667\n"
     ]
    }
   ],
   "source": [
    "total=sum(sum(confusion_matrix))\n",
    "\n",
    "sensitivity = confusion_matrix[0,0]/(confusion_matrix[0,0]+confusion_matrix[1,0])\n",
    "print('Sensitivity : ', sensitivity )\n",
    "\n",
    "specificity = confusion_matrix[1,1]/(confusion_matrix[1,1]+confusion_matrix[0,1])\n",
    "print('Specificity : ', specificity)"
   ]
  },
  {
   "cell_type": "code",
   "execution_count": 22,
   "metadata": {},
   "outputs": [
    {
     "data": {
      "image/png": "[encoded data removed]",
      "text/plain": [
       "<Figure size 576x396 with 1 Axes>"
      ]
     },
     "metadata": {},
     "output_type": "display_data"
    }
   ],
   "source": [
    "fpr, tpr, thresholds = roc_curve(y_test, y_pred_quant)\n",
    "\n",
    "fig, ax = plt.subplots()\n",
    "ax.plot(fpr, tpr)\n",
    "ax.plot([0, 1], [0, 1], transform=ax.transAxes, ls=\"--\", c=\".3\")\n",
    "plt.xlim([0.0, 1.0])\n",
    "plt.ylim([0.0, 1.0])\n",
    "plt.rcParams['font.size'] = 12\n",
    "plt.title('ROC curve for diabetes classifier')\n",
    "plt.xlabel('False Positive Rate (1 - Specificity)')\n",
    "plt.ylabel('True Positive Rate (Sensitivity)')\n",
    "plt.grid(True)"
   ]
  },
  {
   "cell_type": "code",
   "execution_count": 23,
   "metadata": {},
   "outputs": [
    {
     "data": {
      "text/plain": [
       "0.9131868131868132"
      ]
     },
     "execution_count": 23,
     "metadata": {},
     "output_type": "execute_result"
    }
   ],
   "source": [
    "auc(fpr, tpr)"
   ]
  },
  {
   "cell_type": "code",
   "execution_count": 24,
   "metadata": {},
   "outputs": [
    {
     "data": {
      "text/html": [
       "\n",
       "    <style>\n",
       "    table.eli5-weights tr:hover {\n",
       "        filter: brightness(85%);\n",
       "    }\n",
       "</style>\n",
       "\n",
       "\n",
       "\n",
       "    \n",
       "\n",
       "    \n",
       "\n",
       "    \n",
       "\n",
       "    \n",
       "\n",
       "    \n",
       "\n",
       "    \n",
       "\n",
       "\n",
       "    \n",
       "\n",
       "    \n",
       "\n",
       "    \n",
       "\n",
       "    \n",
       "\n",
       "    \n",
       "\n",
       "    \n",
       "\n",
       "\n",
       "    \n",
       "\n",
       "    \n",
       "\n",
       "    \n",
       "\n",
       "    \n",
       "\n",
       "    \n",
       "        <table class=\"eli5-weights eli5-feature-importances\" style=\"border-collapse: collapse; border: none; margin-top: 0em; table-layout: auto;\">\n",
       "    <thead>\n",
       "    <tr style=\"border: none;\">\n",
       "        <th style=\"padding: 0 1em 0 0.5em; text-align: right; border: none;\">Weight</th>\n",
       "        <th style=\"padding: 0 0.5em 0 0.5em; text-align: left; border: none;\">Feature</th>\n",
       "    </tr>\n",
       "    </thead>\n",
       "    <tbody>\n",
       "    \n",
       "        <tr style=\"background-color: hsl(120, 100.00%, 80.00%); border: none;\">\n",
       "            <td style=\"padding: 0 1em 0 0.5em; text-align: right; border: none;\">\n",
       "                0.0754\n",
       "                \n",
       "                    &plusmn; 0.0445\n",
       "                \n",
       "            </td>\n",
       "            <td style=\"padding: 0 0.5em 0 0.5em; text-align: left; border: none;\">\n",
       "                thalassemia_reversable defect\n",
       "            </td>\n",
       "        </tr>\n",
       "    \n",
       "        <tr style=\"background-color: hsl(120, 100.00%, 85.87%); border: none;\">\n",
       "            <td style=\"padding: 0 1em 0 0.5em; text-align: right; border: none;\">\n",
       "                0.0459\n",
       "                \n",
       "                    &plusmn; 0.0321\n",
       "                \n",
       "            </td>\n",
       "            <td style=\"padding: 0 0.5em 0 0.5em; text-align: left; border: none;\">\n",
       "                max_heart_rate_achieved\n",
       "            </td>\n",
       "        </tr>\n",
       "    \n",
       "        <tr style=\"background-color: hsl(120, 100.00%, 87.32%); border: none;\">\n",
       "            <td style=\"padding: 0 1em 0 0.5em; text-align: right; border: none;\">\n",
       "                0.0393\n",
       "                \n",
       "                    &plusmn; 0.0334\n",
       "                \n",
       "            </td>\n",
       "            <td style=\"padding: 0 0.5em 0 0.5em; text-align: left; border: none;\">\n",
       "                num_major_vessels\n",
       "            </td>\n",
       "        </tr>\n",
       "    \n",
       "        <tr style=\"background-color: hsl(120, 100.00%, 89.63%); border: none;\">\n",
       "            <td style=\"padding: 0 1em 0 0.5em; text-align: right; border: none;\">\n",
       "                0.0295\n",
       "                \n",
       "                    &plusmn; 0.0245\n",
       "                \n",
       "            </td>\n",
       "            <td style=\"padding: 0 0.5em 0 0.5em; text-align: left; border: none;\">\n",
       "                st_depression\n",
       "            </td>\n",
       "        </tr>\n",
       "    \n",
       "        <tr style=\"background-color: hsl(120, 100.00%, 92.19%); border: none;\">\n",
       "            <td style=\"padding: 0 1em 0 0.5em; text-align: right; border: none;\">\n",
       "                0.0197\n",
       "                \n",
       "                    &plusmn; 0.0382\n",
       "                \n",
       "            </td>\n",
       "            <td style=\"padding: 0 0.5em 0 0.5em; text-align: left; border: none;\">\n",
       "                thalassemia_fixed defect\n",
       "            </td>\n",
       "        </tr>\n",
       "    \n",
       "        <tr style=\"background-color: hsl(120, 100.00%, 92.19%); border: none;\">\n",
       "            <td style=\"padding: 0 1em 0 0.5em; text-align: right; border: none;\">\n",
       "                0.0197\n",
       "                \n",
       "                    &plusmn; 0.0245\n",
       "                \n",
       "            </td>\n",
       "            <td style=\"padding: 0 0.5em 0 0.5em; text-align: left; border: none;\">\n",
       "                rest_ecg_normal\n",
       "            </td>\n",
       "        </tr>\n",
       "    \n",
       "        <tr style=\"background-color: hsl(120, 100.00%, 93.13%); border: none;\">\n",
       "            <td style=\"padding: 0 1em 0 0.5em; text-align: right; border: none;\">\n",
       "                0.0164\n",
       "                \n",
       "                    &plusmn; 0.0000\n",
       "                \n",
       "            </td>\n",
       "            <td style=\"padding: 0 0.5em 0 0.5em; text-align: left; border: none;\">\n",
       "                exercise_induced_angina_yes\n",
       "            </td>\n",
       "        </tr>\n",
       "    \n",
       "        <tr style=\"background-color: hsl(120, 100.00%, 94.12%); border: none;\">\n",
       "            <td style=\"padding: 0 1em 0 0.5em; text-align: right; border: none;\">\n",
       "                0.0131\n",
       "                \n",
       "                    &plusmn; 0.0131\n",
       "                \n",
       "            </td>\n",
       "            <td style=\"padding: 0 0.5em 0 0.5em; text-align: left; border: none;\">\n",
       "                sex_male\n",
       "            </td>\n",
       "        </tr>\n",
       "    \n",
       "        <tr style=\"background-color: hsl(120, 100.00%, 94.12%); border: none;\">\n",
       "            <td style=\"padding: 0 1em 0 0.5em; text-align: right; border: none;\">\n",
       "                0.0131\n",
       "                \n",
       "                    &plusmn; 0.0131\n",
       "                \n",
       "            </td>\n",
       "            <td style=\"padding: 0 0.5em 0 0.5em; text-align: left; border: none;\">\n",
       "                cholesterol\n",
       "            </td>\n",
       "        </tr>\n",
       "    \n",
       "        <tr style=\"background-color: hsl(120, 100.00%, 96.38%); border: none;\">\n",
       "            <td style=\"padding: 0 1em 0 0.5em; text-align: right; border: none;\">\n",
       "                0.0066\n",
       "                \n",
       "                    &plusmn; 0.0334\n",
       "                \n",
       "            </td>\n",
       "            <td style=\"padding: 0 0.5em 0 0.5em; text-align: left; border: none;\">\n",
       "                age\n",
       "            </td>\n",
       "        </tr>\n",
       "    \n",
       "        <tr style=\"background-color: hsl(0, 100.00%, 100.00%); border: none;\">\n",
       "            <td style=\"padding: 0 1em 0 0.5em; text-align: right; border: none;\">\n",
       "                0\n",
       "                \n",
       "                    &plusmn; 0.0000\n",
       "                \n",
       "            </td>\n",
       "            <td style=\"padding: 0 0.5em 0 0.5em; text-align: left; border: none;\">\n",
       "                chest_pain_type_non-anginal pain\n",
       "            </td>\n",
       "        </tr>\n",
       "    \n",
       "        <tr style=\"background-color: hsl(0, 100.00%, 100.00%); border: none;\">\n",
       "            <td style=\"padding: 0 1em 0 0.5em; text-align: right; border: none;\">\n",
       "                0\n",
       "                \n",
       "                    &plusmn; 0.0000\n",
       "                \n",
       "            </td>\n",
       "            <td style=\"padding: 0 0.5em 0 0.5em; text-align: left; border: none;\">\n",
       "                thalassemia_normal\n",
       "            </td>\n",
       "        </tr>\n",
       "    \n",
       "        <tr style=\"background-color: hsl(0, 100.00%, 100.00%); border: none;\">\n",
       "            <td style=\"padding: 0 1em 0 0.5em; text-align: right; border: none;\">\n",
       "                0\n",
       "                \n",
       "                    &plusmn; 0.0000\n",
       "                \n",
       "            </td>\n",
       "            <td style=\"padding: 0 0.5em 0 0.5em; text-align: left; border: none;\">\n",
       "                fasting_blood_sugar_lower than 120mg/ml\n",
       "            </td>\n",
       "        </tr>\n",
       "    \n",
       "        <tr style=\"background-color: hsl(0, 100.00%, 100.00%); border: none;\">\n",
       "            <td style=\"padding: 0 1em 0 0.5em; text-align: right; border: none;\">\n",
       "                0\n",
       "                \n",
       "                    &plusmn; 0.0000\n",
       "                \n",
       "            </td>\n",
       "            <td style=\"padding: 0 0.5em 0 0.5em; text-align: left; border: none;\">\n",
       "                rest_ecg_left ventricular hypertrophy\n",
       "            </td>\n",
       "        </tr>\n",
       "    \n",
       "        <tr style=\"background-color: hsl(0, 100.00%, 100.00%); border: none;\">\n",
       "            <td style=\"padding: 0 1em 0 0.5em; text-align: right; border: none;\">\n",
       "                0\n",
       "                \n",
       "                    &plusmn; 0.0000\n",
       "                \n",
       "            </td>\n",
       "            <td style=\"padding: 0 0.5em 0 0.5em; text-align: left; border: none;\">\n",
       "                st_slope_upsloping\n",
       "            </td>\n",
       "        </tr>\n",
       "    \n",
       "        <tr style=\"background-color: hsl(0, 100.00%, 100.00%); border: none;\">\n",
       "            <td style=\"padding: 0 1em 0 0.5em; text-align: right; border: none;\">\n",
       "                0\n",
       "                \n",
       "                    &plusmn; 0.0000\n",
       "                \n",
       "            </td>\n",
       "            <td style=\"padding: 0 0.5em 0 0.5em; text-align: left; border: none;\">\n",
       "                resting_blood_pressure\n",
       "            </td>\n",
       "        </tr>\n",
       "    \n",
       "        <tr style=\"background-color: hsl(0, 100.00%, 97.77%); border: none;\">\n",
       "            <td style=\"padding: 0 1em 0 0.5em; text-align: right; border: none;\">\n",
       "                -0.0033\n",
       "                \n",
       "                    &plusmn; 0.0131\n",
       "                \n",
       "            </td>\n",
       "            <td style=\"padding: 0 0.5em 0 0.5em; text-align: left; border: none;\">\n",
       "                chest_pain_type_atypical angina\n",
       "            </td>\n",
       "        </tr>\n",
       "    \n",
       "        <tr style=\"background-color: hsl(0, 100.00%, 94.12%); border: none;\">\n",
       "            <td style=\"padding: 0 1em 0 0.5em; text-align: right; border: none;\">\n",
       "                -0.0131\n",
       "                \n",
       "                    &plusmn; 0.0131\n",
       "                \n",
       "            </td>\n",
       "            <td style=\"padding: 0 0.5em 0 0.5em; text-align: left; border: none;\">\n",
       "                chest_pain_type_typical angina\n",
       "            </td>\n",
       "        </tr>\n",
       "    \n",
       "        <tr style=\"background-color: hsl(0, 100.00%, 88.84%); border: none;\">\n",
       "            <td style=\"padding: 0 1em 0 0.5em; text-align: right; border: none;\">\n",
       "                -0.0328\n",
       "                \n",
       "                    &plusmn; 0.0207\n",
       "                \n",
       "            </td>\n",
       "            <td style=\"padding: 0 0.5em 0 0.5em; text-align: left; border: none;\">\n",
       "                st_slope_flat\n",
       "            </td>\n",
       "        </tr>\n",
       "    \n",
       "    \n",
       "    </tbody>\n",
       "</table>\n",
       "    \n",
       "\n",
       "    \n",
       "\n",
       "\n",
       "    \n",
       "\n",
       "    \n",
       "\n",
       "    \n",
       "\n",
       "    \n",
       "\n",
       "    \n",
       "\n",
       "    \n",
       "\n",
       "\n",
       "\n"
      ],
      "text/plain": [
       "<IPython.core.display.HTML object>"
      ]
     },
     "execution_count": 24,
     "metadata": {},
     "output_type": "execute_result"
    }
   ],
   "source": [
    "perm = PermutationImportance(model, random_state=1).fit(X_test, y_test)\n",
    "eli5.show_weights(perm, feature_names = X_test.columns.tolist())"
   ]
  },
  {
   "cell_type": "code",
   "execution_count": 25,
   "metadata": {},
   "outputs": [
    {
     "data": {
      "text/plain": [
       "Index(['age', 'sex', 'cp', 'trestbps', 'chol', 'fbs', 'restecg', 'thalach',\n",
       "       'exang', 'oldpeak', 'slope', 'ca', 'thal', 'target'],\n",
       "      dtype='object')"
      ]
     },
     "execution_count": 25,
     "metadata": {},
     "output_type": "execute_result"
    }
   ],
   "source": [
    "df= pd.read_csv(\"heart.csv\")\n",
    "df.columns"
   ]
  },
  {
   "cell_type": "code",
   "execution_count": 26,
   "metadata": {},
   "outputs": [
    {
     "data": {
      "text/plain": [
       "Index(['age', 'sex', 'chest_pain_type', 'resting_blood_pressure',\n",
       "       'cholesterol', 'fasting_blood_sugar', 'rest_ecg',\n",
       "       'max_heart_rate_achieved', 'exercise_induced_angina', 'st_depression',\n",
       "       'st_slope', 'num_major_vessels', 'thalassemia', 'target'],\n",
       "      dtype='object')"
      ]
     },
     "execution_count": 26,
     "metadata": {},
     "output_type": "execute_result"
    }
   ],
   "source": [
    "df.columns = ['age', 'sex', 'chest_pain_type', 'resting_blood_pressure', 'cholesterol', 'fasting_blood_sugar', 'rest_ecg', 'max_heart_rate_achieved',\n",
    "       'exercise_induced_angina', 'st_depression', 'st_slope', 'num_major_vessels', 'thalassemia', 'target']\n",
    "df.columns"
   ]
  },
  {
   "cell_type": "code",
   "execution_count": 27,
   "metadata": {},
   "outputs": [],
   "source": [
    "df['sex'][df['sex'] == 0] = 'female'\n",
    "df['sex'][df['sex'] == 1] = 'male'\n",
    "\n",
    "df['chest_pain_type'][df['chest_pain_type'] == 1] = 'typical angina'\n",
    "df['chest_pain_type'][df['chest_pain_type'] == 2] = 'atypical angina'\n",
    "df['chest_pain_type'][df['chest_pain_type'] == 3] = 'non-anginal pain'\n",
    "df['chest_pain_type'][df['chest_pain_type'] == 4] = 'asymptomatic'\n",
    "\n",
    "df['fasting_blood_sugar'][df['fasting_blood_sugar'] == 0] = 'lower than 120mg/ml'\n",
    "df['fasting_blood_sugar'][df['fasting_blood_sugar'] == 1] = 'greater than 120mg/ml'\n",
    "\n",
    "df['rest_ecg'][df['rest_ecg'] == 0] = 'normal'\n",
    "df['rest_ecg'][df['rest_ecg'] == 1] = 'ST-T wave abnormality'\n",
    "df['rest_ecg'][df['rest_ecg'] == 2] = 'left ventricular hypertrophy'\n",
    "\n",
    "df['exercise_induced_angina'][df['exercise_induced_angina'] == 0] = 'no'\n",
    "df['exercise_induced_angina'][df['exercise_induced_angina'] == 1] = 'yes'\n",
    "\n",
    "df['st_slope'][df['st_slope'] == 1] = 'upsloping'\n",
    "df['st_slope'][df['st_slope'] == 2] = 'flat'\n",
    "df['st_slope'][df['st_slope'] == 3] = 'downsloping'\n",
    "\n",
    "df['thalassemia'][df['thalassemia'] == 1] = 'normal'\n",
    "df['thalassemia'][df['thalassemia'] == 2] = 'fixed defect'\n",
    "df['thalassemia'][df['thalassemia'] == 3] = 'reversable defect'"
   ]
  },
  {
   "cell_type": "code",
   "execution_count": 28,
   "metadata": {},
   "outputs": [],
   "source": [
    "df.chest_pain_type = df.chest_pain_type.astype(\"category\")\n",
    "df.exercise_induced_angina = df.exercise_induced_angina.astype(\"category\")\n",
    "df.fasting_blood_sugar = df.fasting_blood_sugar.astype(\"category\")\n",
    "df.rest_ecg = df.rest_ecg.astype(\"category\")\n",
    "df.sex = df.sex.astype(\"category\")\n",
    "df.st_slope = df.st_slope.astype(\"category\")\n",
    "df.thalassemia = df.thalassemia.astype(\"category\")"
   ]
  },
  {
   "cell_type": "code",
   "execution_count": 29,
   "metadata": {},
   "outputs": [
    {
     "data": {
      "text/plain": [
       "Index(['age', 'resting_blood_pressure', 'cholesterol',\n",
       "       'max_heart_rate_achieved', 'st_depression', 'num_major_vessels',\n",
       "       'target', 'sex_male', 'chest_pain_type_atypical angina',\n",
       "       'chest_pain_type_non-anginal pain', 'chest_pain_type_typical angina',\n",
       "       'fasting_blood_sugar_lower than 120mg/ml',\n",
       "       'rest_ecg_left ventricular hypertrophy', 'rest_ecg_normal',\n",
       "       'exercise_induced_angina_yes', 'st_slope_flat', 'st_slope_upsloping',\n",
       "       'thalassemia_fixed defect', 'thalassemia_normal',\n",
       "       'thalassemia_reversable defect'],\n",
       "      dtype='object')"
      ]
     },
     "execution_count": 29,
     "metadata": {},
     "output_type": "execute_result"
    }
   ],
   "source": [
    "df = pd.get_dummies(df, drop_first=True)\n",
    "#!pip install fastai\n",
    "df.columns"
   ]
  },
  {
   "cell_type": "code",
   "execution_count": 30,
   "metadata": {},
   "outputs": [],
   "source": [
    "#!pip install fastai\n",
    "#from fastai.imports import *\n",
    "#from fastai.structured import *\n",
    "#from pandas_summary import DataFrameSummary\n",
    "#from sklearn.ensemble import RandomForestClassifier\n",
    "from IPython.display import display\n",
    "#from sklearn import metrics\n",
    "#from sklearn.model_selection import train_test_split\n",
    "import numpy as np \n",
    "import pandas as pd\n",
    "\n",
    "%load_ext autoreload\n",
    "%autoreload 2\n",
    "%matplotlib inline \n",
    "pd.options.mode.chained_assignment = None"
   ]
  },
  {
   "cell_type": "code",
   "execution_count": 31,
   "metadata": {},
   "outputs": [],
   "source": [
    "max_heart_rate_achieved = pd.cut(df.max_heart_rate_achieved,4,labels=[\"71-104\",\"105-137\",\"138-170\",\"171-202\"])"
   ]
  },
  {
   "cell_type": "code",
   "execution_count": 32,
   "metadata": {},
   "outputs": [
    {
     "data": {
      "text/html": [
       "<style  type=\"text/css\" >\n",
       "    #T_ac167034_4c74_11e9_8161_a0d3c15cae1brow0_col0 {\n",
       "            background-color:  #ffff66;\n",
       "        }    #T_ac167034_4c74_11e9_8161_a0d3c15cae1brow0_col1 {\n",
       "            background-color:  #ffff66;\n",
       "        }    #T_ac167034_4c74_11e9_8161_a0d3c15cae1brow0_col2 {\n",
       "            background-color:  #ffff66;\n",
       "        }    #T_ac167034_4c74_11e9_8161_a0d3c15cae1brow0_col3 {\n",
       "            background-color:  #ffff66;\n",
       "        }    #T_ac167034_4c74_11e9_8161_a0d3c15cae1brow1_col0 {\n",
       "            background-color:  #008066;\n",
       "        }    #T_ac167034_4c74_11e9_8161_a0d3c15cae1brow1_col1 {\n",
       "            background-color:  #008066;\n",
       "        }    #T_ac167034_4c74_11e9_8161_a0d3c15cae1brow1_col2 {\n",
       "            background-color:  #008066;\n",
       "        }    #T_ac167034_4c74_11e9_8161_a0d3c15cae1brow1_col3 {\n",
       "            background-color:  #008066;\n",
       "        }</style>  \n",
       "<table id=\"T_ac167034_4c74_11e9_8161_a0d3c15cae1b\" > \n",
       "<thead>    <tr> \n",
       "        <th class=\"blank\" ></th> \n",
       "        <th class=\"index_name level0\" >max_heart_rate_achieved</th> \n",
       "        <th class=\"col_heading level0 col0\" >71-104</th> \n",
       "        <th class=\"col_heading level0 col1\" >105-137</th> \n",
       "        <th class=\"col_heading level0 col2\" >138-170</th> \n",
       "        <th class=\"col_heading level0 col3\" >171-202</th> \n",
       "    </tr>    <tr> \n",
       "        <th class=\"index_name level0\" >st_slope_flat</th> \n",
       "        <th class=\"index_name level1\" >target</th> \n",
       "        <th class=\"blank\" ></th> \n",
       "        <th class=\"blank\" ></th> \n",
       "        <th class=\"blank\" ></th> \n",
       "        <th class=\"blank\" ></th> \n",
       "    </tr></thead> \n",
       "<tbody>    <tr> \n",
       "        <th id=\"T_ac167034_4c74_11e9_8161_a0d3c15cae1blevel0_row0\" class=\"row_heading level0 row0\" rowspan=2>1</th> \n",
       "        <th id=\"T_ac167034_4c74_11e9_8161_a0d3c15cae1blevel1_row0\" class=\"row_heading level1 row0\" >0</th> \n",
       "        <td id=\"T_ac167034_4c74_11e9_8161_a0d3c15cae1brow0_col0\" class=\"data row0 col0\" >0</td> \n",
       "        <td id=\"T_ac167034_4c74_11e9_8161_a0d3c15cae1brow0_col1\" class=\"data row0 col1\" >5</td> \n",
       "        <td id=\"T_ac167034_4c74_11e9_8161_a0d3c15cae1brow0_col2\" class=\"data row0 col2\" >24</td> \n",
       "        <td id=\"T_ac167034_4c74_11e9_8161_a0d3c15cae1brow0_col3\" class=\"data row0 col3\" >6</td> \n",
       "    </tr>    <tr> \n",
       "        <th id=\"T_ac167034_4c74_11e9_8161_a0d3c15cae1blevel1_row1\" class=\"row_heading level1 row1\" >1</th> \n",
       "        <td id=\"T_ac167034_4c74_11e9_8161_a0d3c15cae1brow1_col0\" class=\"data row1 col0\" >1</td> \n",
       "        <td id=\"T_ac167034_4c74_11e9_8161_a0d3c15cae1brow1_col1\" class=\"data row1 col1\" >7</td> \n",
       "        <td id=\"T_ac167034_4c74_11e9_8161_a0d3c15cae1brow1_col2\" class=\"data row1 col2\" >55</td> \n",
       "        <td id=\"T_ac167034_4c74_11e9_8161_a0d3c15cae1brow1_col3\" class=\"data row1 col3\" >44</td> \n",
       "    </tr></tbody> \n",
       "</table> "
      ],
      "text/plain": [
       "<pandas.io.formats.style.Styler at 0xa1e3bd0>"
      ]
     },
     "execution_count": 32,
     "metadata": {},
     "output_type": "execute_result"
    }
   ],
   "source": [
    "cross1=pd.crosstab([df.st_slope_flat[df.st_slope_flat==1],df.target],max_heart_rate_achieved).style.background_gradient(cmap='summer_r')\n",
    "cross1"
   ]
  },
  {
   "cell_type": "code",
   "execution_count": 34,
   "metadata": {},
   "outputs": [
    {
     "data": {
      "text/html": [
       "<style  type=\"text/css\" >\n",
       "    #T_b37233a6_4c74_11e9_8fae_a0d3c15cae1brow0_col0 {\n",
       "            background-color:  #ffff66;\n",
       "        }    #T_b37233a6_4c74_11e9_8fae_a0d3c15cae1brow0_col1 {\n",
       "            background-color:  #ffff66;\n",
       "        }    #T_b37233a6_4c74_11e9_8fae_a0d3c15cae1brow0_col2 {\n",
       "            background-color:  #ffff66;\n",
       "        }    #T_b37233a6_4c74_11e9_8fae_a0d3c15cae1brow0_col3 {\n",
       "            background-color:  #ffff66;\n",
       "        }    #T_b37233a6_4c74_11e9_8fae_a0d3c15cae1brow1_col0 {\n",
       "            background-color:  #008066;\n",
       "        }    #T_b37233a6_4c74_11e9_8fae_a0d3c15cae1brow1_col1 {\n",
       "            background-color:  #008066;\n",
       "        }    #T_b37233a6_4c74_11e9_8fae_a0d3c15cae1brow1_col2 {\n",
       "            background-color:  #008066;\n",
       "        }    #T_b37233a6_4c74_11e9_8fae_a0d3c15cae1brow1_col3 {\n",
       "            background-color:  #008066;\n",
       "        }</style>  \n",
       "<table id=\"T_b37233a6_4c74_11e9_8fae_a0d3c15cae1b\" > \n",
       "<thead>    <tr> \n",
       "        <th class=\"blank\" ></th> \n",
       "        <th class=\"blank\" ></th> \n",
       "        <th class=\"index_name level0\" >max_heart_rate_achieved</th> \n",
       "        <th class=\"col_heading level0 col0\" >71-104</th> \n",
       "        <th class=\"col_heading level0 col1\" >105-137</th> \n",
       "        <th class=\"col_heading level0 col2\" >138-170</th> \n",
       "        <th class=\"col_heading level0 col3\" >171-202</th> \n",
       "    </tr>    <tr> \n",
       "        <th class=\"index_name level0\" >st_slope_flat</th> \n",
       "        <th class=\"index_name level1\" >thalassemia_fixed defect</th> \n",
       "        <th class=\"index_name level2\" >target</th> \n",
       "        <th class=\"blank\" ></th> \n",
       "        <th class=\"blank\" ></th> \n",
       "        <th class=\"blank\" ></th> \n",
       "        <th class=\"blank\" ></th> \n",
       "    </tr></thead> \n",
       "<tbody>    <tr> \n",
       "        <th id=\"T_b37233a6_4c74_11e9_8fae_a0d3c15cae1blevel0_row0\" class=\"row_heading level0 row0\" rowspan=2>1</th> \n",
       "        <th id=\"T_b37233a6_4c74_11e9_8fae_a0d3c15cae1blevel1_row0\" class=\"row_heading level1 row0\" rowspan=2>1</th> \n",
       "        <th id=\"T_b37233a6_4c74_11e9_8fae_a0d3c15cae1blevel2_row0\" class=\"row_heading level2 row0\" >0</th> \n",
       "        <td id=\"T_b37233a6_4c74_11e9_8fae_a0d3c15cae1brow0_col0\" class=\"data row0 col0\" >0</td> \n",
       "        <td id=\"T_b37233a6_4c74_11e9_8fae_a0d3c15cae1brow0_col1\" class=\"data row0 col1\" >3</td> \n",
       "        <td id=\"T_b37233a6_4c74_11e9_8fae_a0d3c15cae1brow0_col2\" class=\"data row0 col2\" >9</td> \n",
       "        <td id=\"T_b37233a6_4c74_11e9_8fae_a0d3c15cae1brow0_col3\" class=\"data row0 col3\" >1</td> \n",
       "    </tr>    <tr> \n",
       "        <th id=\"T_b37233a6_4c74_11e9_8fae_a0d3c15cae1blevel2_row1\" class=\"row_heading level2 row1\" >1</th> \n",
       "        <td id=\"T_b37233a6_4c74_11e9_8fae_a0d3c15cae1brow1_col0\" class=\"data row1 col0\" >1</td> \n",
       "        <td id=\"T_b37233a6_4c74_11e9_8fae_a0d3c15cae1brow1_col1\" class=\"data row1 col1\" >4</td> \n",
       "        <td id=\"T_b37233a6_4c74_11e9_8fae_a0d3c15cae1brow1_col2\" class=\"data row1 col2\" >43</td> \n",
       "        <td id=\"T_b37233a6_4c74_11e9_8fae_a0d3c15cae1brow1_col3\" class=\"data row1 col3\" >41</td> \n",
       "    </tr></tbody> \n",
       "</table> "
      ],
      "text/plain": [
       "<pandas.io.formats.style.Styler at 0x9e240b0>"
      ]
     },
     "execution_count": 34,
     "metadata": {},
     "output_type": "execute_result"
    }
   ],
   "source": [
    "cross1=pd.crosstab([df.st_slope_flat[df.st_slope_flat==1],df[\"thalassemia_fixed defect\"][df[\"thalassemia_fixed defect\"]==1],\n",
    "                    df.target],max_heart_rate_achieved).style.background_gradient(cmap='summer_r')\n",
    "cross1"
   ]
  },
  {
   "cell_type": "code",
   "execution_count": 35,
   "metadata": {},
   "outputs": [
    {
     "data": {
      "text/html": [
       "<style  type=\"text/css\" >\n",
       "    #T_b888ead8_4c74_11e9_8ad0_a0d3c15cae1brow0_col0 {\n",
       "            background-color:  #ffff66;\n",
       "        }    #T_b888ead8_4c74_11e9_8ad0_a0d3c15cae1brow0_col1 {\n",
       "            background-color:  #b9dc66;\n",
       "        }    #T_b888ead8_4c74_11e9_8ad0_a0d3c15cae1brow0_col2 {\n",
       "            background-color:  #ffff66;\n",
       "        }    #T_b888ead8_4c74_11e9_8ad0_a0d3c15cae1brow1_col0 {\n",
       "            background-color:  #379b66;\n",
       "        }    #T_b888ead8_4c74_11e9_8ad0_a0d3c15cae1brow1_col1 {\n",
       "            background-color:  #ffff66;\n",
       "        }    #T_b888ead8_4c74_11e9_8ad0_a0d3c15cae1brow1_col2 {\n",
       "            background-color:  #d3e966;\n",
       "        }    #T_b888ead8_4c74_11e9_8ad0_a0d3c15cae1brow2_col0 {\n",
       "            background-color:  #008066;\n",
       "        }    #T_b888ead8_4c74_11e9_8ad0_a0d3c15cae1brow2_col1 {\n",
       "            background-color:  #008066;\n",
       "        }    #T_b888ead8_4c74_11e9_8ad0_a0d3c15cae1brow2_col2 {\n",
       "            background-color:  #008066;\n",
       "        }</style>  \n",
       "<table id=\"T_b888ead8_4c74_11e9_8ad0_a0d3c15cae1b\" > \n",
       "<thead>    <tr> \n",
       "        <th class=\"index_name level0\" >sex_male</th> \n",
       "        <th class=\"col_heading level0 col0\" >0</th> \n",
       "        <th class=\"col_heading level0 col1\" >1</th> \n",
       "        <th class=\"col_heading level0 col2\" >All</th> \n",
       "    </tr>    <tr> \n",
       "        <th class=\"index_name level0\" >thalassemia_fixed defect</th> \n",
       "        <th class=\"blank\" ></th> \n",
       "        <th class=\"blank\" ></th> \n",
       "        <th class=\"blank\" ></th> \n",
       "    </tr></thead> \n",
       "<tbody>    <tr> \n",
       "        <th id=\"T_b888ead8_4c74_11e9_8ad0_a0d3c15cae1blevel0_row0\" class=\"row_heading level0 row0\" >0</th> \n",
       "        <td id=\"T_b888ead8_4c74_11e9_8ad0_a0d3c15cae1brow0_col0\" class=\"data row0 col0\" >17</td> \n",
       "        <td id=\"T_b888ead8_4c74_11e9_8ad0_a0d3c15cae1brow0_col1\" class=\"data row0 col1\" >120</td> \n",
       "        <td id=\"T_b888ead8_4c74_11e9_8ad0_a0d3c15cae1brow0_col2\" class=\"data row0 col2\" >137</td> \n",
       "    </tr>    <tr> \n",
       "        <th id=\"T_b888ead8_4c74_11e9_8ad0_a0d3c15cae1blevel0_row1\" class=\"row_heading level0 row1\" >1</th> \n",
       "        <td id=\"T_b888ead8_4c74_11e9_8ad0_a0d3c15cae1brow1_col0\" class=\"data row1 col0\" >79</td> \n",
       "        <td id=\"T_b888ead8_4c74_11e9_8ad0_a0d3c15cae1brow1_col1\" class=\"data row1 col1\" >87</td> \n",
       "        <td id=\"T_b888ead8_4c74_11e9_8ad0_a0d3c15cae1brow1_col2\" class=\"data row1 col2\" >166</td> \n",
       "    </tr>    <tr> \n",
       "        <th id=\"T_b888ead8_4c74_11e9_8ad0_a0d3c15cae1blevel0_row2\" class=\"row_heading level0 row2\" >All</th> \n",
       "        <td id=\"T_b888ead8_4c74_11e9_8ad0_a0d3c15cae1brow2_col0\" class=\"data row2 col0\" >96</td> \n",
       "        <td id=\"T_b888ead8_4c74_11e9_8ad0_a0d3c15cae1brow2_col1\" class=\"data row2 col1\" >207</td> \n",
       "        <td id=\"T_b888ead8_4c74_11e9_8ad0_a0d3c15cae1brow2_col2\" class=\"data row2 col2\" >303</td> \n",
       "    </tr></tbody> \n",
       "</table> "
      ],
      "text/plain": [
       "<pandas.io.formats.style.Styler at 0xa18c290>"
      ]
     },
     "execution_count": 35,
     "metadata": {},
     "output_type": "execute_result"
    }
   ],
   "source": [
    "cross1=pd.crosstab([df[\"thalassemia_fixed defect\"]],df.sex_male,margins=True).style.background_gradient(cmap='summer_r')\n",
    "cross1"
   ]
  },
  {
   "cell_type": "code",
   "execution_count": 36,
   "metadata": {},
   "outputs": [
    {
     "data": {
      "text/html": [
       "<style  type=\"text/css\" >\n",
       "    #T_b9868908_4c74_11e9_9c7c_a0d3c15cae1brow0_col0 {\n",
       "            background-color:  #ffff66;\n",
       "        }    #T_b9868908_4c74_11e9_9c7c_a0d3c15cae1brow0_col1 {\n",
       "            background-color:  #ffff66;\n",
       "        }    #T_b9868908_4c74_11e9_9c7c_a0d3c15cae1brow1_col0 {\n",
       "            background-color:  #008066;\n",
       "        }    #T_b9868908_4c74_11e9_9c7c_a0d3c15cae1brow1_col1 {\n",
       "            background-color:  #008066;\n",
       "        }</style>  \n",
       "<table id=\"T_b9868908_4c74_11e9_9c7c_a0d3c15cae1b\" > \n",
       "<thead>    <tr> \n",
       "        <th class=\"blank\" ></th> \n",
       "        <th class=\"index_name level0\" >sex_male</th> \n",
       "        <th class=\"col_heading level0 col0\" >0</th> \n",
       "        <th class=\"col_heading level0 col1\" >1</th> \n",
       "    </tr>    <tr> \n",
       "        <th class=\"index_name level0\" >thalassemia_fixed defect</th> \n",
       "        <th class=\"index_name level1\" >target</th> \n",
       "        <th class=\"blank\" ></th> \n",
       "        <th class=\"blank\" ></th> \n",
       "    </tr></thead> \n",
       "<tbody>    <tr> \n",
       "        <th id=\"T_b9868908_4c74_11e9_9c7c_a0d3c15cae1blevel0_row0\" class=\"row_heading level0 row0\" rowspan=2>1</th> \n",
       "        <th id=\"T_b9868908_4c74_11e9_9c7c_a0d3c15cae1blevel1_row0\" class=\"row_heading level1 row0\" >0</th> \n",
       "        <td id=\"T_b9868908_4c74_11e9_9c7c_a0d3c15cae1brow0_col0\" class=\"data row0 col0\" >10</td> \n",
       "        <td id=\"T_b9868908_4c74_11e9_9c7c_a0d3c15cae1brow0_col1\" class=\"data row0 col1\" >26</td> \n",
       "    </tr>    <tr> \n",
       "        <th id=\"T_b9868908_4c74_11e9_9c7c_a0d3c15cae1blevel1_row1\" class=\"row_heading level1 row1\" >1</th> \n",
       "        <td id=\"T_b9868908_4c74_11e9_9c7c_a0d3c15cae1brow1_col0\" class=\"data row1 col0\" >69</td> \n",
       "        <td id=\"T_b9868908_4c74_11e9_9c7c_a0d3c15cae1brow1_col1\" class=\"data row1 col1\" >61</td> \n",
       "    </tr></tbody> \n",
       "</table> "
      ],
      "text/plain": [
       "<pandas.io.formats.style.Styler at 0xa18c4b0>"
      ]
     },
     "execution_count": 36,
     "metadata": {},
     "output_type": "execute_result"
    }
   ],
   "source": [
    "cross1=pd.crosstab([df[\"thalassemia_fixed defect\"][df[\"thalassemia_fixed defect\"]==1],df.target],df.sex_male).style.background_gradient(cmap='summer_r')\n",
    "cross1"
   ]
  },
  {
   "cell_type": "code",
   "execution_count": 37,
   "metadata": {},
   "outputs": [
    {
     "data": {
      "text/html": [
       "<style  type=\"text/css\" >\n",
       "    #T_bddb615e_4c74_11e9_ab52_a0d3c15cae1brow0_col0 {\n",
       "            background-color:  #008066;\n",
       "        }    #T_bddb615e_4c74_11e9_ab52_a0d3c15cae1brow0_col1 {\n",
       "            background-color:  #008066;\n",
       "        }    #T_bddb615e_4c74_11e9_ab52_a0d3c15cae1brow0_col2 {\n",
       "            background-color:  #ffff66;\n",
       "        }    #T_bddb615e_4c74_11e9_ab52_a0d3c15cae1brow0_col3 {\n",
       "            background-color:  #008066;\n",
       "        }    #T_bddb615e_4c74_11e9_ab52_a0d3c15cae1brow0_col4 {\n",
       "            background-color:  #008066;\n",
       "        }    #T_bddb615e_4c74_11e9_ab52_a0d3c15cae1brow0_col5 {\n",
       "            background-color:  #008066;\n",
       "        }    #T_bddb615e_4c74_11e9_ab52_a0d3c15cae1brow0_col6 {\n",
       "            background-color:  #008066;\n",
       "        }    #T_bddb615e_4c74_11e9_ab52_a0d3c15cae1brow0_col7 {\n",
       "            background-color:  #008066;\n",
       "        }    #T_bddb615e_4c74_11e9_ab52_a0d3c15cae1brow0_col8 {\n",
       "            background-color:  #008066;\n",
       "        }    #T_bddb615e_4c74_11e9_ab52_a0d3c15cae1brow0_col9 {\n",
       "            background-color:  #ffff66;\n",
       "        }    #T_bddb615e_4c74_11e9_ab52_a0d3c15cae1brow0_col10 {\n",
       "            background-color:  #008066;\n",
       "        }    #T_bddb615e_4c74_11e9_ab52_a0d3c15cae1brow0_col11 {\n",
       "            background-color:  #008066;\n",
       "        }    #T_bddb615e_4c74_11e9_ab52_a0d3c15cae1brow0_col12 {\n",
       "            background-color:  #008066;\n",
       "        }    #T_bddb615e_4c74_11e9_ab52_a0d3c15cae1brow0_col13 {\n",
       "            background-color:  #008066;\n",
       "        }    #T_bddb615e_4c74_11e9_ab52_a0d3c15cae1brow0_col14 {\n",
       "            background-color:  #008066;\n",
       "        }    #T_bddb615e_4c74_11e9_ab52_a0d3c15cae1brow0_col15 {\n",
       "            background-color:  #008066;\n",
       "        }    #T_bddb615e_4c74_11e9_ab52_a0d3c15cae1brow0_col16 {\n",
       "            background-color:  #008066;\n",
       "        }    #T_bddb615e_4c74_11e9_ab52_a0d3c15cae1brow0_col17 {\n",
       "            background-color:  #008066;\n",
       "        }    #T_bddb615e_4c74_11e9_ab52_a0d3c15cae1brow0_col18 {\n",
       "            background-color:  #008066;\n",
       "        }    #T_bddb615e_4c74_11e9_ab52_a0d3c15cae1brow0_col19 {\n",
       "            background-color:  #008066;\n",
       "        }    #T_bddb615e_4c74_11e9_ab52_a0d3c15cae1brow0_col20 {\n",
       "            background-color:  #008066;\n",
       "        }    #T_bddb615e_4c74_11e9_ab52_a0d3c15cae1brow0_col21 {\n",
       "            background-color:  #008066;\n",
       "        }    #T_bddb615e_4c74_11e9_ab52_a0d3c15cae1brow0_col22 {\n",
       "            background-color:  #008066;\n",
       "        }    #T_bddb615e_4c74_11e9_ab52_a0d3c15cae1brow0_col23 {\n",
       "            background-color:  #008066;\n",
       "        }    #T_bddb615e_4c74_11e9_ab52_a0d3c15cae1brow0_col24 {\n",
       "            background-color:  #008066;\n",
       "        }    #T_bddb615e_4c74_11e9_ab52_a0d3c15cae1brow0_col25 {\n",
       "            background-color:  #008066;\n",
       "        }    #T_bddb615e_4c74_11e9_ab52_a0d3c15cae1brow0_col26 {\n",
       "            background-color:  #008066;\n",
       "        }    #T_bddb615e_4c74_11e9_ab52_a0d3c15cae1brow1_col0 {\n",
       "            background-color:  #ffff66;\n",
       "        }    #T_bddb615e_4c74_11e9_ab52_a0d3c15cae1brow1_col1 {\n",
       "            background-color:  #ffff66;\n",
       "        }    #T_bddb615e_4c74_11e9_ab52_a0d3c15cae1brow1_col2 {\n",
       "            background-color:  #008066;\n",
       "        }    #T_bddb615e_4c74_11e9_ab52_a0d3c15cae1brow1_col3 {\n",
       "            background-color:  #ffff66;\n",
       "        }    #T_bddb615e_4c74_11e9_ab52_a0d3c15cae1brow1_col4 {\n",
       "            background-color:  #ffff66;\n",
       "        }    #T_bddb615e_4c74_11e9_ab52_a0d3c15cae1brow1_col5 {\n",
       "            background-color:  #ffff66;\n",
       "        }    #T_bddb615e_4c74_11e9_ab52_a0d3c15cae1brow1_col6 {\n",
       "            background-color:  #ffff66;\n",
       "        }    #T_bddb615e_4c74_11e9_ab52_a0d3c15cae1brow1_col7 {\n",
       "            background-color:  #ffff66;\n",
       "        }    #T_bddb615e_4c74_11e9_ab52_a0d3c15cae1brow1_col8 {\n",
       "            background-color:  #ffff66;\n",
       "        }    #T_bddb615e_4c74_11e9_ab52_a0d3c15cae1brow1_col9 {\n",
       "            background-color:  #ffff66;\n",
       "        }    #T_bddb615e_4c74_11e9_ab52_a0d3c15cae1brow1_col10 {\n",
       "            background-color:  #ffff66;\n",
       "        }    #T_bddb615e_4c74_11e9_ab52_a0d3c15cae1brow1_col11 {\n",
       "            background-color:  #ffff66;\n",
       "        }    #T_bddb615e_4c74_11e9_ab52_a0d3c15cae1brow1_col12 {\n",
       "            background-color:  #ffff66;\n",
       "        }    #T_bddb615e_4c74_11e9_ab52_a0d3c15cae1brow1_col13 {\n",
       "            background-color:  #ffff66;\n",
       "        }    #T_bddb615e_4c74_11e9_ab52_a0d3c15cae1brow1_col14 {\n",
       "            background-color:  #ffff66;\n",
       "        }    #T_bddb615e_4c74_11e9_ab52_a0d3c15cae1brow1_col15 {\n",
       "            background-color:  #ffff66;\n",
       "        }    #T_bddb615e_4c74_11e9_ab52_a0d3c15cae1brow1_col16 {\n",
       "            background-color:  #ffff66;\n",
       "        }    #T_bddb615e_4c74_11e9_ab52_a0d3c15cae1brow1_col17 {\n",
       "            background-color:  #ffff66;\n",
       "        }    #T_bddb615e_4c74_11e9_ab52_a0d3c15cae1brow1_col18 {\n",
       "            background-color:  #ffff66;\n",
       "        }    #T_bddb615e_4c74_11e9_ab52_a0d3c15cae1brow1_col19 {\n",
       "            background-color:  #ffff66;\n",
       "        }    #T_bddb615e_4c74_11e9_ab52_a0d3c15cae1brow1_col20 {\n",
       "            background-color:  #ffff66;\n",
       "        }    #T_bddb615e_4c74_11e9_ab52_a0d3c15cae1brow1_col21 {\n",
       "            background-color:  #ffff66;\n",
       "        }    #T_bddb615e_4c74_11e9_ab52_a0d3c15cae1brow1_col22 {\n",
       "            background-color:  #ffff66;\n",
       "        }    #T_bddb615e_4c74_11e9_ab52_a0d3c15cae1brow1_col23 {\n",
       "            background-color:  #ffff66;\n",
       "        }    #T_bddb615e_4c74_11e9_ab52_a0d3c15cae1brow1_col24 {\n",
       "            background-color:  #ffff66;\n",
       "        }    #T_bddb615e_4c74_11e9_ab52_a0d3c15cae1brow1_col25 {\n",
       "            background-color:  #ffff66;\n",
       "        }    #T_bddb615e_4c74_11e9_ab52_a0d3c15cae1brow1_col26 {\n",
       "            background-color:  #ffff66;\n",
       "        }</style>  \n",
       "<table id=\"T_bddb615e_4c74_11e9_ab52_a0d3c15cae1b\" > \n",
       "<thead>    <tr> \n",
       "        <th class=\"blank\" ></th> \n",
       "        <th class=\"index_name level0\" >st_slope_upsloping</th> \n",
       "        <th class=\"col_heading level0 col0\" colspan=27>1</th> \n",
       "    </tr>    <tr> \n",
       "        <th class=\"blank\" ></th> \n",
       "        <th class=\"index_name level1\" >st_depression</th> \n",
       "        <th class=\"col_heading level1 col0\" >0.0</th> \n",
       "        <th class=\"col_heading level1 col1\" >0.1</th> \n",
       "        <th class=\"col_heading level1 col2\" >0.2</th> \n",
       "        <th class=\"col_heading level1 col3\" >0.6</th> \n",
       "        <th class=\"col_heading level1 col4\" >0.8</th> \n",
       "        <th class=\"col_heading level1 col5\" >0.9</th> \n",
       "        <th class=\"col_heading level1 col6\" >1.0</th> \n",
       "        <th class=\"col_heading level1 col7\" >1.2</th> \n",
       "        <th class=\"col_heading level1 col8\" >1.4</th> \n",
       "        <th class=\"col_heading level1 col9\" >1.5</th> \n",
       "        <th class=\"col_heading level1 col10\" >1.6</th> \n",
       "        <th class=\"col_heading level1 col11\" >1.8</th> \n",
       "        <th class=\"col_heading level1 col12\" >1.9</th> \n",
       "        <th class=\"col_heading level1 col13\" >2.0</th> \n",
       "        <th class=\"col_heading level1 col14\" >2.1</th> \n",
       "        <th class=\"col_heading level1 col15\" >2.2</th> \n",
       "        <th class=\"col_heading level1 col16\" >2.4</th> \n",
       "        <th class=\"col_heading level1 col17\" >2.5</th> \n",
       "        <th class=\"col_heading level1 col18\" >2.6</th> \n",
       "        <th class=\"col_heading level1 col19\" >2.8</th> \n",
       "        <th class=\"col_heading level1 col20\" >2.9</th> \n",
       "        <th class=\"col_heading level1 col21\" >3.0</th> \n",
       "        <th class=\"col_heading level1 col22\" >3.2</th> \n",
       "        <th class=\"col_heading level1 col23\" >3.4</th> \n",
       "        <th class=\"col_heading level1 col24\" >3.6</th> \n",
       "        <th class=\"col_heading level1 col25\" >3.8</th> \n",
       "        <th class=\"col_heading level1 col26\" >4.2</th> \n",
       "    </tr>    <tr> \n",
       "        <th class=\"index_name level0\" >exercise_induced_angina_yes</th> \n",
       "        <th class=\"index_name level1\" >target</th> \n",
       "        <th class=\"blank\" ></th> \n",
       "        <th class=\"blank\" ></th> \n",
       "        <th class=\"blank\" ></th> \n",
       "        <th class=\"blank\" ></th> \n",
       "        <th class=\"blank\" ></th> \n",
       "        <th class=\"blank\" ></th> \n",
       "        <th class=\"blank\" ></th> \n",
       "        <th class=\"blank\" ></th> \n",
       "        <th class=\"blank\" ></th> \n",
       "        <th class=\"blank\" ></th> \n",
       "        <th class=\"blank\" ></th> \n",
       "        <th class=\"blank\" ></th> \n",
       "        <th class=\"blank\" ></th> \n",
       "        <th class=\"blank\" ></th> \n",
       "        <th class=\"blank\" ></th> \n",
       "        <th class=\"blank\" ></th> \n",
       "        <th class=\"blank\" ></th> \n",
       "        <th class=\"blank\" ></th> \n",
       "        <th class=\"blank\" ></th> \n",
       "        <th class=\"blank\" ></th> \n",
       "        <th class=\"blank\" ></th> \n",
       "        <th class=\"blank\" ></th> \n",
       "        <th class=\"blank\" ></th> \n",
       "        <th class=\"blank\" ></th> \n",
       "        <th class=\"blank\" ></th> \n",
       "        <th class=\"blank\" ></th> \n",
       "        <th class=\"blank\" ></th> \n",
       "    </tr></thead> \n",
       "<tbody>    <tr> \n",
       "        <th id=\"T_bddb615e_4c74_11e9_ab52_a0d3c15cae1blevel0_row0\" class=\"row_heading level0 row0\" rowspan=2>1</th> \n",
       "        <th id=\"T_bddb615e_4c74_11e9_ab52_a0d3c15cae1blevel1_row0\" class=\"row_heading level1 row0\" >0</th> \n",
       "        <td id=\"T_bddb615e_4c74_11e9_ab52_a0d3c15cae1brow0_col0\" class=\"data row0 col0\" >5</td> \n",
       "        <td id=\"T_bddb615e_4c74_11e9_ab52_a0d3c15cae1brow0_col1\" class=\"data row0 col1\" >1</td> \n",
       "        <td id=\"T_bddb615e_4c74_11e9_ab52_a0d3c15cae1brow0_col2\" class=\"data row0 col2\" >1</td> \n",
       "        <td id=\"T_bddb615e_4c74_11e9_ab52_a0d3c15cae1brow0_col3\" class=\"data row0 col3\" >2</td> \n",
       "        <td id=\"T_bddb615e_4c74_11e9_ab52_a0d3c15cae1brow0_col4\" class=\"data row0 col4\" >1</td> \n",
       "        <td id=\"T_bddb615e_4c74_11e9_ab52_a0d3c15cae1brow0_col5\" class=\"data row0 col5\" >2</td> \n",
       "        <td id=\"T_bddb615e_4c74_11e9_ab52_a0d3c15cae1brow0_col6\" class=\"data row0 col6\" >4</td> \n",
       "        <td id=\"T_bddb615e_4c74_11e9_ab52_a0d3c15cae1brow0_col7\" class=\"data row0 col7\" >6</td> \n",
       "        <td id=\"T_bddb615e_4c74_11e9_ab52_a0d3c15cae1brow0_col8\" class=\"data row0 col8\" >1</td> \n",
       "        <td id=\"T_bddb615e_4c74_11e9_ab52_a0d3c15cae1brow0_col9\" class=\"data row0 col9\" >1</td> \n",
       "        <td id=\"T_bddb615e_4c74_11e9_ab52_a0d3c15cae1brow0_col10\" class=\"data row0 col10\" >2</td> \n",
       "        <td id=\"T_bddb615e_4c74_11e9_ab52_a0d3c15cae1brow0_col11\" class=\"data row0 col11\" >5</td> \n",
       "        <td id=\"T_bddb615e_4c74_11e9_ab52_a0d3c15cae1brow0_col12\" class=\"data row0 col12\" >1</td> \n",
       "        <td id=\"T_bddb615e_4c74_11e9_ab52_a0d3c15cae1brow0_col13\" class=\"data row0 col13\" >3</td> \n",
       "        <td id=\"T_bddb615e_4c74_11e9_ab52_a0d3c15cae1brow0_col14\" class=\"data row0 col14\" >1</td> \n",
       "        <td id=\"T_bddb615e_4c74_11e9_ab52_a0d3c15cae1brow0_col15\" class=\"data row0 col15\" >2</td> \n",
       "        <td id=\"T_bddb615e_4c74_11e9_ab52_a0d3c15cae1brow0_col16\" class=\"data row0 col16\" >1</td> \n",
       "        <td id=\"T_bddb615e_4c74_11e9_ab52_a0d3c15cae1brow0_col17\" class=\"data row0 col17\" >1</td> \n",
       "        <td id=\"T_bddb615e_4c74_11e9_ab52_a0d3c15cae1brow0_col18\" class=\"data row0 col18\" >1</td> \n",
       "        <td id=\"T_bddb615e_4c74_11e9_ab52_a0d3c15cae1brow0_col19\" class=\"data row0 col19\" >4</td> \n",
       "        <td id=\"T_bddb615e_4c74_11e9_ab52_a0d3c15cae1brow0_col20\" class=\"data row0 col20\" >1</td> \n",
       "        <td id=\"T_bddb615e_4c74_11e9_ab52_a0d3c15cae1brow0_col21\" class=\"data row0 col21\" >3</td> \n",
       "        <td id=\"T_bddb615e_4c74_11e9_ab52_a0d3c15cae1brow0_col22\" class=\"data row0 col22\" >1</td> \n",
       "        <td id=\"T_bddb615e_4c74_11e9_ab52_a0d3c15cae1brow0_col23\" class=\"data row0 col23\" >1</td> \n",
       "        <td id=\"T_bddb615e_4c74_11e9_ab52_a0d3c15cae1brow0_col24\" class=\"data row0 col24\" >2</td> \n",
       "        <td id=\"T_bddb615e_4c74_11e9_ab52_a0d3c15cae1brow0_col25\" class=\"data row0 col25\" >1</td> \n",
       "        <td id=\"T_bddb615e_4c74_11e9_ab52_a0d3c15cae1brow0_col26\" class=\"data row0 col26\" >1</td> \n",
       "    </tr>    <tr> \n",
       "        <th id=\"T_bddb615e_4c74_11e9_ab52_a0d3c15cae1blevel1_row1\" class=\"row_heading level1 row1\" >1</th> \n",
       "        <td id=\"T_bddb615e_4c74_11e9_ab52_a0d3c15cae1brow1_col0\" class=\"data row1 col0\" >1</td> \n",
       "        <td id=\"T_bddb615e_4c74_11e9_ab52_a0d3c15cae1brow1_col1\" class=\"data row1 col1\" >0</td> \n",
       "        <td id=\"T_bddb615e_4c74_11e9_ab52_a0d3c15cae1brow1_col2\" class=\"data row1 col2\" >2</td> \n",
       "        <td id=\"T_bddb615e_4c74_11e9_ab52_a0d3c15cae1brow1_col3\" class=\"data row1 col3\" >1</td> \n",
       "        <td id=\"T_bddb615e_4c74_11e9_ab52_a0d3c15cae1brow1_col4\" class=\"data row1 col4\" >0</td> \n",
       "        <td id=\"T_bddb615e_4c74_11e9_ab52_a0d3c15cae1brow1_col5\" class=\"data row1 col5\" >0</td> \n",
       "        <td id=\"T_bddb615e_4c74_11e9_ab52_a0d3c15cae1brow1_col6\" class=\"data row1 col6\" >1</td> \n",
       "        <td id=\"T_bddb615e_4c74_11e9_ab52_a0d3c15cae1brow1_col7\" class=\"data row1 col7\" >1</td> \n",
       "        <td id=\"T_bddb615e_4c74_11e9_ab52_a0d3c15cae1brow1_col8\" class=\"data row1 col8\" >0</td> \n",
       "        <td id=\"T_bddb615e_4c74_11e9_ab52_a0d3c15cae1brow1_col9\" class=\"data row1 col9\" >1</td> \n",
       "        <td id=\"T_bddb615e_4c74_11e9_ab52_a0d3c15cae1brow1_col10\" class=\"data row1 col10\" >0</td> \n",
       "        <td id=\"T_bddb615e_4c74_11e9_ab52_a0d3c15cae1brow1_col11\" class=\"data row1 col11\" >1</td> \n",
       "        <td id=\"T_bddb615e_4c74_11e9_ab52_a0d3c15cae1brow1_col12\" class=\"data row1 col12\" >0</td> \n",
       "        <td id=\"T_bddb615e_4c74_11e9_ab52_a0d3c15cae1brow1_col13\" class=\"data row1 col13\" >0</td> \n",
       "        <td id=\"T_bddb615e_4c74_11e9_ab52_a0d3c15cae1brow1_col14\" class=\"data row1 col14\" >0</td> \n",
       "        <td id=\"T_bddb615e_4c74_11e9_ab52_a0d3c15cae1brow1_col15\" class=\"data row1 col15\" >0</td> \n",
       "        <td id=\"T_bddb615e_4c74_11e9_ab52_a0d3c15cae1brow1_col16\" class=\"data row1 col16\" >0</td> \n",
       "        <td id=\"T_bddb615e_4c74_11e9_ab52_a0d3c15cae1brow1_col17\" class=\"data row1 col17\" >0</td> \n",
       "        <td id=\"T_bddb615e_4c74_11e9_ab52_a0d3c15cae1brow1_col18\" class=\"data row1 col18\" >0</td> \n",
       "        <td id=\"T_bddb615e_4c74_11e9_ab52_a0d3c15cae1brow1_col19\" class=\"data row1 col19\" >0</td> \n",
       "        <td id=\"T_bddb615e_4c74_11e9_ab52_a0d3c15cae1brow1_col20\" class=\"data row1 col20\" >0</td> \n",
       "        <td id=\"T_bddb615e_4c74_11e9_ab52_a0d3c15cae1brow1_col21\" class=\"data row1 col21\" >1</td> \n",
       "        <td id=\"T_bddb615e_4c74_11e9_ab52_a0d3c15cae1brow1_col22\" class=\"data row1 col22\" >0</td> \n",
       "        <td id=\"T_bddb615e_4c74_11e9_ab52_a0d3c15cae1brow1_col23\" class=\"data row1 col23\" >0</td> \n",
       "        <td id=\"T_bddb615e_4c74_11e9_ab52_a0d3c15cae1brow1_col24\" class=\"data row1 col24\" >0</td> \n",
       "        <td id=\"T_bddb615e_4c74_11e9_ab52_a0d3c15cae1brow1_col25\" class=\"data row1 col25\" >0</td> \n",
       "        <td id=\"T_bddb615e_4c74_11e9_ab52_a0d3c15cae1brow1_col26\" class=\"data row1 col26\" >0</td> \n",
       "    </tr></tbody> \n",
       "</table> "
      ],
      "text/plain": [
       "<pandas.io.formats.style.Styler at 0xa0f9770>"
      ]
     },
     "execution_count": 37,
     "metadata": {},
     "output_type": "execute_result"
    }
   ],
   "source": [
    "cross1=pd.crosstab([df.exercise_induced_angina_yes[df.exercise_induced_angina_yes==1],df.target],[df.st_slope_upsloping[df.st_slope_upsloping==1],df.st_depression]).style.background_gradient(cmap='summer_r')\n",
    "cross1"
   ]
  },
  {
   "cell_type": "code",
   "execution_count": 38,
   "metadata": {},
   "outputs": [],
   "source": [
    "age = pd.cut(df.age,6,labels=[\"(28.952, 37.0)\", \"(37.0, 45.0)\", \"(45.0, 53.0)\",\"(53.0, 61.0)\",\"(61.0, 69.0)\", \"(69.0, 77.0)\"])"
   ]
  },
  {
   "cell_type": "code",
   "execution_count": 39,
   "metadata": {},
   "outputs": [
    {
     "data": {
      "text/html": [
       "<style  type=\"text/css\" >\n",
       "    #T_c144f94c_4c74_11e9_94b8_a0d3c15cae1brow0_col0 {\n",
       "            background-color:  #7fbf66;\n",
       "        }    #T_c144f94c_4c74_11e9_94b8_a0d3c15cae1brow0_col1 {\n",
       "            background-color:  #9bcd66;\n",
       "        }    #T_c144f94c_4c74_11e9_94b8_a0d3c15cae1brow0_col2 {\n",
       "            background-color:  #6db666;\n",
       "        }    #T_c144f94c_4c74_11e9_94b8_a0d3c15cae1brow0_col3 {\n",
       "            background-color:  #57ab66;\n",
       "        }    #T_c144f94c_4c74_11e9_94b8_a0d3c15cae1brow0_col4 {\n",
       "            background-color:  #69b466;\n",
       "        }    #T_c144f94c_4c74_11e9_94b8_a0d3c15cae1brow0_col5 {\n",
       "            background-color:  #aad466;\n",
       "        }    #T_c144f94c_4c74_11e9_94b8_a0d3c15cae1brow1_col0 {\n",
       "            background-color:  #008066;\n",
       "        }    #T_c144f94c_4c74_11e9_94b8_a0d3c15cae1brow1_col1 {\n",
       "            background-color:  #008066;\n",
       "        }    #T_c144f94c_4c74_11e9_94b8_a0d3c15cae1brow1_col2 {\n",
       "            background-color:  #0c8666;\n",
       "        }    #T_c144f94c_4c74_11e9_94b8_a0d3c15cae1brow1_col3 {\n",
       "            background-color:  #7fbf66;\n",
       "        }    #T_c144f94c_4c74_11e9_94b8_a0d3c15cae1brow1_col4 {\n",
       "            background-color:  #87c366;\n",
       "        }    #T_c144f94c_4c74_11e9_94b8_a0d3c15cae1brow1_col5 {\n",
       "            background-color:  #008066;\n",
       "        }    #T_c144f94c_4c74_11e9_94b8_a0d3c15cae1brow2_col0 {\n",
       "            background-color:  #ffff66;\n",
       "        }    #T_c144f94c_4c74_11e9_94b8_a0d3c15cae1brow2_col1 {\n",
       "            background-color:  #c8e366;\n",
       "        }    #T_c144f94c_4c74_11e9_94b8_a0d3c15cae1brow2_col2 {\n",
       "            background-color:  #86c266;\n",
       "        }    #T_c144f94c_4c74_11e9_94b8_a0d3c15cae1brow2_col3 {\n",
       "            background-color:  #008066;\n",
       "        }    #T_c144f94c_4c74_11e9_94b8_a0d3c15cae1brow2_col4 {\n",
       "            background-color:  #008066;\n",
       "        }    #T_c144f94c_4c74_11e9_94b8_a0d3c15cae1brow2_col5 {\n",
       "            background-color:  #008066;\n",
       "        }    #T_c144f94c_4c74_11e9_94b8_a0d3c15cae1brow3_col0 {\n",
       "            background-color:  #3f9f66;\n",
       "        }    #T_c144f94c_4c74_11e9_94b8_a0d3c15cae1brow3_col1 {\n",
       "            background-color:  #379b66;\n",
       "        }    #T_c144f94c_4c74_11e9_94b8_a0d3c15cae1brow3_col2 {\n",
       "            background-color:  #008066;\n",
       "        }    #T_c144f94c_4c74_11e9_94b8_a0d3c15cae1brow3_col3 {\n",
       "            background-color:  #4fa766;\n",
       "        }    #T_c144f94c_4c74_11e9_94b8_a0d3c15cae1brow3_col4 {\n",
       "            background-color:  #2d9666;\n",
       "        }    #T_c144f94c_4c74_11e9_94b8_a0d3c15cae1brow3_col5 {\n",
       "            background-color:  #008066;\n",
       "        }    #T_c144f94c_4c74_11e9_94b8_a0d3c15cae1brow4_col0 {\n",
       "            background-color:  #ffff66;\n",
       "        }    #T_c144f94c_4c74_11e9_94b8_a0d3c15cae1brow4_col1 {\n",
       "            background-color:  #ffff66;\n",
       "        }    #T_c144f94c_4c74_11e9_94b8_a0d3c15cae1brow4_col2 {\n",
       "            background-color:  #ffff66;\n",
       "        }    #T_c144f94c_4c74_11e9_94b8_a0d3c15cae1brow4_col3 {\n",
       "            background-color:  #c7e366;\n",
       "        }    #T_c144f94c_4c74_11e9_94b8_a0d3c15cae1brow4_col4 {\n",
       "            background-color:  #ffff66;\n",
       "        }    #T_c144f94c_4c74_11e9_94b8_a0d3c15cae1brow4_col5 {\n",
       "            background-color:  #ffff66;\n",
       "        }    #T_c144f94c_4c74_11e9_94b8_a0d3c15cae1brow5_col0 {\n",
       "            background-color:  #ffff66;\n",
       "        }    #T_c144f94c_4c74_11e9_94b8_a0d3c15cae1brow5_col1 {\n",
       "            background-color:  #ffff66;\n",
       "        }    #T_c144f94c_4c74_11e9_94b8_a0d3c15cae1brow5_col2 {\n",
       "            background-color:  #f3f966;\n",
       "        }    #T_c144f94c_4c74_11e9_94b8_a0d3c15cae1brow5_col3 {\n",
       "            background-color:  #ffff66;\n",
       "        }    #T_c144f94c_4c74_11e9_94b8_a0d3c15cae1brow5_col4 {\n",
       "            background-color:  #ffff66;\n",
       "        }    #T_c144f94c_4c74_11e9_94b8_a0d3c15cae1brow5_col5 {\n",
       "            background-color:  #ffff66;\n",
       "        }</style>  \n",
       "<table id=\"T_c144f94c_4c74_11e9_94b8_a0d3c15cae1b\" > \n",
       "<thead>    <tr> \n",
       "        <th class=\"blank\" ></th> \n",
       "        <th class=\"index_name level0\" >age</th> \n",
       "        <th class=\"col_heading level0 col0\" >(28.952, 37.0)</th> \n",
       "        <th class=\"col_heading level0 col1\" >(37.0, 45.0)</th> \n",
       "        <th class=\"col_heading level0 col2\" >(45.0, 53.0)</th> \n",
       "        <th class=\"col_heading level0 col3\" >(53.0, 61.0)</th> \n",
       "        <th class=\"col_heading level0 col4\" >(61.0, 69.0)</th> \n",
       "        <th class=\"col_heading level0 col5\" >(69.0, 77.0)</th> \n",
       "    </tr>    <tr> \n",
       "        <th class=\"index_name level0\" >resting_blood_pressure</th> \n",
       "        <th class=\"index_name level1\" >target</th> \n",
       "        <th class=\"blank\" ></th> \n",
       "        <th class=\"blank\" ></th> \n",
       "        <th class=\"blank\" ></th> \n",
       "        <th class=\"blank\" ></th> \n",
       "        <th class=\"blank\" ></th> \n",
       "        <th class=\"blank\" ></th> \n",
       "    </tr></thead> \n",
       "<tbody>    <tr> \n",
       "        <th id=\"T_c144f94c_4c74_11e9_94b8_a0d3c15cae1blevel0_row0\" class=\"row_heading level0 row0\" rowspan=2>(93.894, 129.333]</th> \n",
       "        <th id=\"T_c144f94c_4c74_11e9_94b8_a0d3c15cae1blevel1_row0\" class=\"row_heading level1 row0\" >0</th> \n",
       "        <td id=\"T_c144f94c_4c74_11e9_94b8_a0d3c15cae1brow0_col0\" class=\"data row0 col0\" >2</td> \n",
       "        <td id=\"T_c144f94c_4c74_11e9_94b8_a0d3c15cae1brow0_col1\" class=\"data row0 col1\" >9</td> \n",
       "        <td id=\"T_c144f94c_4c74_11e9_94b8_a0d3c15cae1brow0_col2\" class=\"data row0 col2\" >12</td> \n",
       "        <td id=\"T_c144f94c_4c74_11e9_94b8_a0d3c15cae1brow0_col3\" class=\"data row0 col3\" >22</td> \n",
       "        <td id=\"T_c144f94c_4c74_11e9_94b8_a0d3c15cae1brow0_col4\" class=\"data row0 col4\" >12</td> \n",
       "        <td id=\"T_c144f94c_4c74_11e9_94b8_a0d3c15cae1brow0_col5\" class=\"data row0 col5\" >1</td> \n",
       "    </tr>    <tr> \n",
       "        <th id=\"T_c144f94c_4c74_11e9_94b8_a0d3c15cae1blevel1_row1\" class=\"row_heading level1 row1\" >1</th> \n",
       "        <td id=\"T_c144f94c_4c74_11e9_94b8_a0d3c15cae1brow1_col0\" class=\"data row1 col0\" >4</td> \n",
       "        <td id=\"T_c144f94c_4c74_11e9_94b8_a0d3c15cae1brow1_col1\" class=\"data row1 col1\" >23</td> \n",
       "        <td id=\"T_c144f94c_4c74_11e9_94b8_a0d3c15cae1brow1_col2\" class=\"data row1 col2\" >20</td> \n",
       "        <td id=\"T_c144f94c_4c74_11e9_94b8_a0d3c15cae1brow1_col3\" class=\"data row1 col3\" >17</td> \n",
       "        <td id=\"T_c144f94c_4c74_11e9_94b8_a0d3c15cae1brow1_col4\" class=\"data row1 col4\" >10</td> \n",
       "        <td id=\"T_c144f94c_4c74_11e9_94b8_a0d3c15cae1brow1_col5\" class=\"data row1 col5\" >3</td> \n",
       "    </tr>    <tr> \n",
       "        <th id=\"T_c144f94c_4c74_11e9_94b8_a0d3c15cae1blevel0_row2\" class=\"row_heading level0 row2\" rowspan=2>(129.333, 164.667]</th> \n",
       "        <th id=\"T_c144f94c_4c74_11e9_94b8_a0d3c15cae1blevel1_row2\" class=\"row_heading level1 row2\" >0</th> \n",
       "        <td id=\"T_c144f94c_4c74_11e9_94b8_a0d3c15cae1brow2_col0\" class=\"data row2 col0\" >0</td> \n",
       "        <td id=\"T_c144f94c_4c74_11e9_94b8_a0d3c15cae1brow2_col1\" class=\"data row2 col1\" >5</td> \n",
       "        <td id=\"T_c144f94c_4c74_11e9_94b8_a0d3c15cae1brow2_col2\" class=\"data row2 col2\" >10</td> \n",
       "        <td id=\"T_c144f94c_4c74_11e9_94b8_a0d3c15cae1brow2_col3\" class=\"data row2 col3\" >33</td> \n",
       "        <td id=\"T_c144f94c_4c74_11e9_94b8_a0d3c15cae1brow2_col4\" class=\"data row2 col4\" >19</td> \n",
       "        <td id=\"T_c144f94c_4c74_11e9_94b8_a0d3c15cae1brow2_col5\" class=\"data row2 col5\" >3</td> \n",
       "    </tr>    <tr> \n",
       "        <th id=\"T_c144f94c_4c74_11e9_94b8_a0d3c15cae1blevel1_row3\" class=\"row_heading level1 row3\" >1</th> \n",
       "        <td id=\"T_c144f94c_4c74_11e9_94b8_a0d3c15cae1brow3_col0\" class=\"data row3 col0\" >3</td> \n",
       "        <td id=\"T_c144f94c_4c74_11e9_94b8_a0d3c15cae1brow3_col1\" class=\"data row3 col1\" >18</td> \n",
       "        <td id=\"T_c144f94c_4c74_11e9_94b8_a0d3c15cae1brow3_col2\" class=\"data row3 col2\" >21</td> \n",
       "        <td id=\"T_c144f94c_4c74_11e9_94b8_a0d3c15cae1brow3_col3\" class=\"data row3 col3\" >23</td> \n",
       "        <td id=\"T_c144f94c_4c74_11e9_94b8_a0d3c15cae1brow3_col4\" class=\"data row3 col4\" >16</td> \n",
       "        <td id=\"T_c144f94c_4c74_11e9_94b8_a0d3c15cae1brow3_col5\" class=\"data row3 col5\" >3</td> \n",
       "    </tr>    <tr> \n",
       "        <th id=\"T_c144f94c_4c74_11e9_94b8_a0d3c15cae1blevel0_row4\" class=\"row_heading level0 row4\" rowspan=2>(164.667, 200.0]</th> \n",
       "        <th id=\"T_c144f94c_4c74_11e9_94b8_a0d3c15cae1blevel1_row4\" class=\"row_heading level1 row4\" >0</th> \n",
       "        <td id=\"T_c144f94c_4c74_11e9_94b8_a0d3c15cae1brow4_col0\" class=\"data row4 col0\" >0</td> \n",
       "        <td id=\"T_c144f94c_4c74_11e9_94b8_a0d3c15cae1brow4_col1\" class=\"data row4 col1\" >0</td> \n",
       "        <td id=\"T_c144f94c_4c74_11e9_94b8_a0d3c15cae1brow4_col2\" class=\"data row4 col2\" >0</td> \n",
       "        <td id=\"T_c144f94c_4c74_11e9_94b8_a0d3c15cae1brow4_col3\" class=\"data row4 col3\" >8</td> \n",
       "        <td id=\"T_c144f94c_4c74_11e9_94b8_a0d3c15cae1brow4_col4\" class=\"data row4 col4\" >2</td> \n",
       "        <td id=\"T_c144f94c_4c74_11e9_94b8_a0d3c15cae1brow4_col5\" class=\"data row4 col5\" >0</td> \n",
       "    </tr>    <tr> \n",
       "        <th id=\"T_c144f94c_4c74_11e9_94b8_a0d3c15cae1blevel1_row5\" class=\"row_heading level1 row5\" >1</th> \n",
       "        <td id=\"T_c144f94c_4c74_11e9_94b8_a0d3c15cae1brow5_col0\" class=\"data row5 col0\" >0</td> \n",
       "        <td id=\"T_c144f94c_4c74_11e9_94b8_a0d3c15cae1brow5_col1\" class=\"data row5 col1\" >0</td> \n",
       "        <td id=\"T_c144f94c_4c74_11e9_94b8_a0d3c15cae1brow5_col2\" class=\"data row5 col2\" >1</td> \n",
       "        <td id=\"T_c144f94c_4c74_11e9_94b8_a0d3c15cae1brow5_col3\" class=\"data row5 col3\" >1</td> \n",
       "        <td id=\"T_c144f94c_4c74_11e9_94b8_a0d3c15cae1brow5_col4\" class=\"data row5 col4\" >2</td> \n",
       "        <td id=\"T_c144f94c_4c74_11e9_94b8_a0d3c15cae1brow5_col5\" class=\"data row5 col5\" >0</td> \n",
       "    </tr></tbody> \n",
       "</table> "
      ],
      "text/plain": [
       "<pandas.io.formats.style.Styler at 0x10259b0>"
      ]
     },
     "execution_count": 39,
     "metadata": {},
     "output_type": "execute_result"
    }
   ],
   "source": [
    "cross1=pd.crosstab([pd.cut(df.resting_blood_pressure,3),df.target],[age]).style.background_gradient(cmap='summer_r')\n",
    "cross1"
   ]
  },
  {
   "cell_type": "code",
   "execution_count": 40,
   "metadata": {},
   "outputs": [],
   "source": [
    "dt= pd.read_csv('heart.csv')"
   ]
  },
  {
   "cell_type": "code",
   "execution_count": 41,
   "metadata": {},
   "outputs": [],
   "source": [
    "array = dt.values\n",
    "X = array[:,0:12].astype(float)\n",
    "Y = array[:,13]\n",
    "validation_size = 0.20\n",
    "seed = 7\n",
    "#X_train, X_validation, Y_train, Y_validation = train_test_split(X, Y,\n",
    "    #test_size=validation_size, random_state=seed)\n"
   ]
  },
  {
   "cell_type": "code",
   "execution_count": 43,
   "metadata": {},
   "outputs": [],
   "source": [
    "def corr_heatmap(df):\n",
    "    correlations = df.corr()\n",
    "    # Create color map ranging between two colors\n",
    "    cmap = sns.diverging_palette(220, 10, as_cmap=True)\n",
    "    fig, ax = plt.subplots(figsize=(20, 20))\n",
    "    sns.heatmap(correlations, cmap=cmap, vmax=1.0, center=0, fmt='.2f',\n",
    "                square=True, linewidths=.5, annot=True, cbar_kws={\"shrink\": .75})\n",
    "    plt.show()\n",
    "\n",
    "def augment(x,y,t=2):\n",
    "    xs,xn = [],[]\n",
    "    for i in range(t):\n",
    "        mask = y>0\n",
    "        x1 = x[mask].copy()\n",
    "        ids = np.arange(x1.shape[0])\n",
    "        for c in range(x1.shape[1]):\n",
    "            np.random.shuffle(ids)\n",
    "            x1[:,c] = x1[ids][:,c]\n",
    "        xs.append(x1)\n",
    "\n",
    "    for i in range(t//2):\n",
    "        mask = y==0\n",
    "        x1 = x[mask].copy()\n",
    "        ids = np.arange(x1.shape[0])\n",
    "        for c in range(x1.shape[1]):\n",
    "            np.random.shuffle(ids)\n",
    "            x1[:,c] = x1[ids][:,c]\n",
    "        xn.append(x1)\n",
    "\n",
    "    xs = np.vstack(xs)\n",
    "    xn = np.vstack(xn)\n",
    "    ys = np.ones(xs.shape[0])\n",
    "    yn = np.zeros(xn.shape[0])\n",
    "    x = np.vstack([x,xs,xn])\n",
    "    y = np.concatenate([y,ys,yn])\n",
    "    return x,y"
   ]
  },
  {
   "cell_type": "code",
   "execution_count": 44,
   "metadata": {},
   "outputs": [
    {
     "data": {
      "image/png": "[encoded data removed]",
      "text/plain": [
       "<Figure size 1440x1440 with 2 Axes>"
      ]
     },
     "metadata": {
      "needs_background": "light"
     },
     "output_type": "display_data"
    }
   ],
   "source": [
    "corr_heatmap(dt)"
   ]
  },
  {
   "cell_type": "code",
   "execution_count": 45,
   "metadata": {},
   "outputs": [],
   "source": [
    "num_folds = 10\n",
    "seed = 7\n",
    "scoring =  'accuracy'"
   ]
  },
  {
   "cell_type": "code",
   "execution_count": 46,
   "metadata": {},
   "outputs": [],
   "source": [
    "models = []\n",
    "models.append(( 'LR' , LogisticRegression()))\n",
    "models.append(( 'LDA' , LinearDiscriminantAnalysis()))\n",
    "models.append(( 'KNN' , KNeighborsClassifier()))\n",
    "models.append(( 'CART' , DecisionTreeClassifier()))\n",
    "models.append(( 'NB' , GaussianNB()))\n",
    "models.append(( 'SVM' , SVC()))"
   ]
  },
  {
   "cell_type": "code",
   "execution_count": 47,
   "metadata": {},
   "outputs": [
    {
     "name": "stdout",
     "output_type": "stream",
     "text": [
      "LR: 0.831000 (0.061388)\n",
      "LDA: 0.818667 (0.060318)\n",
      "KNN: 0.648833 (0.089200)\n",
      "CART: 0.760500 (0.086027)\n",
      "NB: 0.802000 (0.067880)\n",
      "SVM: 0.578833 (0.097889)\n"
     ]
    }
   ],
   "source": [
    "results = []\n",
    "names = []\n",
    "for name, model in models:\n",
    "  kfold = KFold(n_splits=num_folds, random_state=seed)\n",
    "  cv_results = cross_val_score(model, X_train, y_train, cv=kfold, scoring=scoring)\n",
    "  results.append(cv_results)\n",
    "  names.append(name)\n",
    "  msg = \"%s: %f (%f)\" % (name, cv_results.mean(), cv_results.std())\n",
    "  print(msg)"
   ]
  },
  {
   "cell_type": "code",
   "execution_count": 48,
   "metadata": {},
   "outputs": [
    {
     "name": "stdout",
     "output_type": "stream",
     "text": [
      "AB: 0.810167 (0.040923)\n",
      "GBM: 0.798167 (0.062523)\n",
      "RF: 0.823333 (0.096870)\n",
      "ET: 0.814667 (0.069940)\n"
     ]
    }
   ],
   "source": [
    "# ensembles\n",
    "ensembles = []\n",
    "ensembles.append(( 'AB' , AdaBoostClassifier()))\n",
    "ensembles.append(( 'GBM' , GradientBoostingClassifier()))\n",
    "ensembles.append(( 'RF' , RandomForestClassifier()))\n",
    "ensembles.append(( 'ET' , ExtraTreesClassifier()))\n",
    "results = []\n",
    "names = []\n",
    "for name, model in ensembles:\n",
    "  kfold = KFold(n_splits=num_folds, random_state=seed)\n",
    "  cv_results = cross_val_score(model, X_train, y_train, cv=kfold, scoring=scoring)\n",
    "  results.append(cv_results)\n",
    "  names.append(name)\n",
    "  msg = \"%s: %f (%f)\" % (name, cv_results.mean(), cv_results.std())\n",
    "  print(msg)\n",
    "  \n",
    "  \n",
    "  "
   ]
  },
  {
   "cell_type": "code",
   "execution_count": 49,
   "metadata": {},
   "outputs": [],
   "source": [
    "X_t, y_t = augment(X, Y, t=20)"
   ]
  },
  {
   "cell_type": "code",
   "execution_count": 50,
   "metadata": {},
   "outputs": [
    {
     "name": "stdout",
     "output_type": "stream",
     "text": [
      "3986 3986\n"
     ]
    }
   ],
   "source": [
    "X_train, X_validation, Y_train, Y_validation = train_test_split(X_t, y_t,\n",
    "    test_size=validation_size, random_state=seed)\n",
    "print(len(X_train),len(Y_train))"
   ]
  },
  {
   "cell_type": "code",
   "execution_count": 51,
   "metadata": {},
   "outputs": [
    {
     "name": "stdout",
     "output_type": "stream",
     "text": [
      "AB: 0.916702 (0.012868)\n",
      "GBM: 0.907167 (0.014326)\n",
      "RF: 0.888862 (0.009106)\n",
      "ET: 0.887352 (0.010647)\n"
     ]
    }
   ],
   "source": [
    "# ensembles\n",
    "ensembles = []\n",
    "ensembles.append(( 'AB' , AdaBoostClassifier()))\n",
    "ensembles.append(( 'GBM' , GradientBoostingClassifier()))\n",
    "ensembles.append(( 'RF' , RandomForestClassifier()))\n",
    "ensembles.append(( 'ET' , ExtraTreesClassifier()))\n",
    "results = []\n",
    "names = []\n",
    "for name, model in ensembles:\n",
    "  kfold = KFold(n_splits=num_folds, random_state=seed)\n",
    "  cv_results = cross_val_score(model, X_train, Y_train, cv=kfold, scoring=scoring)\n",
    "  results.append(cv_results)\n",
    "  names.append(name)\n",
    "  msg = \"%s: %f (%f)\" % (name, cv_results.mean(), cv_results.std())\n",
    "  print(msg)"
   ]
  },
  {
   "cell_type": "code",
   "execution_count": 52,
   "metadata": {},
   "outputs": [
    {
     "name": "stdout",
     "output_type": "stream",
     "text": [
      "3986 3986\n"
     ]
    }
   ],
   "source": [
    "X_train, X_validation, Y_train, Y_validation = train_test_split(X_t, y_t,\n",
    "    test_size=validation_size, random_state=seed)\n",
    "print(len(X_train),len(Y_train))"
   ]
  },
  {
   "cell_type": "code",
   "execution_count": 53,
   "metadata": {},
   "outputs": [],
   "source": [
    "model=AdaBoostClassifier()\n",
    "model.fit(X_train,Y_train)\n",
    "y_predict = model.predict(X_validation)\n",
    "y_pred_quant = model.predict_proba(X_validation)[:, 1]\n",
    "y_pred_bin = model.predict(X_validation)"
   ]
  },
  {
   "cell_type": "code",
   "execution_count": 54,
   "metadata": {},
   "outputs": [
    {
     "data": {
      "image/png": "[encoded data removed]",
      "text/plain": [
       "<Figure size 432x288 with 1 Axes>"
      ]
     },
     "metadata": {
      "needs_background": "light"
     },
     "output_type": "display_data"
    }
   ],
   "source": [
    "fpr, tpr, thresholds = roc_curve(Y_validation, y_pred_quant)\n",
    "\n",
    "fig, ax = plt.subplots()\n",
    "ax.plot(fpr, tpr)\n",
    "ax.plot([0, 1], [0, 1], transform=ax.transAxes, ls=\"--\", c=\".3\")\n",
    "plt.xlim([0.0, 1.0])\n",
    "plt.ylim([0.0, 1.0])\n",
    "plt.rcParams['font.size'] = 12\n",
    "plt.title('ROC curve for diabetes classifier')\n",
    "plt.xlabel('False Positive Rate (1 - Specificity)')\n",
    "plt.ylabel('True Positive Rate (Sensitivity)')\n",
    "plt.grid(True)"
   ]
  },
  {
   "cell_type": "code",
   "execution_count": 55,
   "metadata": {},
   "outputs": [
    {
     "data": {
      "text/plain": [
       "0.9710794581762323"
      ]
     },
     "execution_count": 55,
     "metadata": {},
     "output_type": "execute_result"
    }
   ],
   "source": [
    "auc(fpr, tpr)"
   ]
  },
  {
   "cell_type": "code",
   "execution_count": 56,
   "metadata": {},
   "outputs": [
    {
     "data": {
      "image/png": "[encoded data removed]",
      "text/plain": [
       "<Figure size 1152x576 with 1 Axes>"
      ]
     },
     "metadata": {
      "needs_background": "light"
     },
     "output_type": "display_data"
    }
   ],
   "source": [
    "fig = plt.figure(figsize=(16, 8))\n",
    "fig.suptitle( 'Ensembles models' )\n",
    "ax = fig.add_subplot(111 )\n",
    "plt.boxplot(results)\n",
    "ax.set_xticklabels(names)\n",
    "plt.show()"
   ]
  },
  {
   "cell_type": "code",
   "execution_count": null,
   "metadata": {},
   "outputs": [],
   "source": [
    "#AdaBoost with augmentation is better performing than every other models"
   ]
  }
 ],
 "metadata": {
  "kernelspec": {
   "display_name": "Python 3",
   "language": "python",
   "name": "python3"
  },
  "language_info": {
   "codemirror_mode": {
    "name": "ipython",
    "version": 3
   },
   "file_extension": ".py",
   "mimetype": "text/x-python",
   "name": "python",
   "nbconvert_exporter": "python",
   "pygments_lexer": "ipython3",
   "version": "3.7.1"
  }
 },
 "nbformat": 4,
 "nbformat_minor": 2
}
